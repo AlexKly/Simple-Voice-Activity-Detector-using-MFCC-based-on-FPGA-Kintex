{
 "cells": [
  {
   "cell_type": "markdown",
   "metadata": {},
   "source": [
    "## Libraries"
   ]
  },
  {
   "cell_type": "code",
   "execution_count": 1,
   "metadata": {},
   "outputs": [],
   "source": [
    "# Common:\n",
    "import struct\n",
    "import numpy as np\n",
    "import scipy.io.wavfile as wav\n",
    "import resampy\n",
    "\n",
    "# Features engineering:\n",
    "from python_speech_features import mfcc, delta\n",
    "\n",
    "# Sklearn tools:\n",
    "from sklearn import model_selection, pipeline, preprocessing, svm, metrics\n",
    "\n",
    "# Graphics:\n",
    "import matplotlib.pyplot as plt"
   ]
  },
  {
   "cell_type": "markdown",
   "metadata": {},
   "source": [
    "## Common params and settings"
   ]
  },
  {
   "cell_type": "code",
   "execution_count": 2,
   "metadata": {},
   "outputs": [],
   "source": [
    "# Paths:\n",
    "\n",
    "# Features:\n",
    "SAMPLE_RATE = 16000\n",
    "PREEMPHASIS_COEF = 0.95  # Coefficient for pre-processing filter\n",
    "FRAME_LENGTH = 0.032  # Window length in sec\n",
    "FRAME_STEP = 0.01  # Length of step in sec\n",
    "WINDOW_FUNCTION = np.hamming  # Type of window function\n",
    "NFFT = 512  # Points of FFT\n",
    "NFILTERS = 26\n",
    "CEPLIFTER = 22\n",
    "APPEND_ENERGY = True\n",
    "NFEATURES = 13  # Number of Mel filters"
   ]
  },
  {
   "cell_type": "code",
   "execution_count": 3,
   "metadata": {},
   "outputs": [
    {
     "ename": "NameError",
     "evalue": "name 'train_test_split' is not defined",
     "output_type": "error",
     "traceback": [
      "\u001b[1;31m---------------------------------------------------------------------------\u001b[0m",
      "\u001b[1;31mNameError\u001b[0m                                 Traceback (most recent call last)",
      "\u001b[1;32m<ipython-input-3-6fe8e4884b6b>\u001b[0m in \u001b[0;36m<module>\u001b[1;34m\u001b[0m\n\u001b[0;32m      9\u001b[0m     \u001b[0mdata_feat\u001b[0m\u001b[1;33m[\u001b[0m\u001b[0mi\u001b[0m\u001b[1;33m]\u001b[0m\u001b[1;33m[\u001b[0m\u001b[1;33m:\u001b[0m\u001b[1;33m]\u001b[0m \u001b[1;33m=\u001b[0m \u001b[0mmfcc_features\u001b[0m\u001b[1;33m[\u001b[0m\u001b[0mi\u001b[0m\u001b[1;33m]\u001b[0m\u001b[1;33m[\u001b[0m\u001b[1;36m1\u001b[0m\u001b[1;33m:\u001b[0m\u001b[1;33m]\u001b[0m\u001b[1;31m# + np.random.normal(0, 5, mfcc_features.shape[1] - 1)\u001b[0m\u001b[1;33m\u001b[0m\u001b[1;33m\u001b[0m\u001b[0m\n\u001b[0;32m     10\u001b[0m \u001b[1;33m\u001b[0m\u001b[0m\n\u001b[1;32m---> 11\u001b[1;33m \u001b[0mX_train\u001b[0m\u001b[1;33m,\u001b[0m \u001b[0mX_test\u001b[0m\u001b[1;33m,\u001b[0m \u001b[0my_train\u001b[0m\u001b[1;33m,\u001b[0m \u001b[0my_test\u001b[0m \u001b[1;33m=\u001b[0m \u001b[0mtrain_test_split\u001b[0m\u001b[1;33m(\u001b[0m\u001b[0mdata_feat\u001b[0m\u001b[1;33m,\u001b[0m \u001b[0mlabels\u001b[0m\u001b[1;33m,\u001b[0m \u001b[0mtrain_size\u001b[0m\u001b[1;33m=\u001b[0m\u001b[1;36m0.95\u001b[0m\u001b[1;33m,\u001b[0m \u001b[0mrandom_state\u001b[0m\u001b[1;33m=\u001b[0m\u001b[1;36m40\u001b[0m\u001b[1;33m)\u001b[0m\u001b[1;33m\u001b[0m\u001b[1;33m\u001b[0m\u001b[0m\n\u001b[0m",
      "\u001b[1;31mNameError\u001b[0m: name 'train_test_split' is not defined"
     ]
    }
   ],
   "source": [
    "# Load data set for training:\n",
    "mfcc_features = np.loadtxt('C:/Users/Alex/Desktop/My dreams/vad/mfcc_features_3.txt')\n",
    "\n",
    "\n",
    "labels = np.zeros((mfcc_features.shape[0]))\n",
    "data_feat = np.zeros((mfcc_features.shape[0], mfcc_features.shape[1] - 1))\n",
    "for i in range(mfcc_features.shape[0]):\n",
    "    labels[i] = mfcc_features[i][0]\n",
    "    data_feat[i][:] = mfcc_features[i][1:]# + np.random.normal(0, 5, mfcc_features.shape[1] - 1)\n",
    "    \n",
    "X_train, X_test, y_train, y_test = train_test_split(data_feat, labels, train_size=0.95, random_state=40)"
   ]
  },
  {
   "cell_type": "code",
   "execution_count": null,
   "metadata": {},
   "outputs": [],
   "source": [
    "# Calc MFCC:\n",
    "path = 'C:/Users/Alex/Desktop/VAD/'\n",
    "filename = 'Voice_002.wav'\n",
    "#path = 'D:/Program/PyCharm Community Edition 2020.3.1/Projects/Voice/wav/'\n",
    "#filename = 'Voice_Viktor Pchelkin_2648.wav'\n",
    "wav = wavio.read(path + filename)\n",
    "sound = wav.data\n",
    "sample_rate = wav.rate\n",
    "\n",
    "num_ceps = 13\n",
    "features = np.zeros((1, 3 * num_ceps))\n",
    "#features = np.zeros((1, num_ceps))\n",
    "\n",
    "mfcc_feats = mfcc(sound, sample_rate, winlen=0.032, nfft=512, appendEnergy=True, winfunc=np.hamming)\n",
    "d_mfcc = delta(mfcc_feats, 2)\n",
    "d2_mfcc = delta(d_mfcc, 2)\n",
    "dataset_on_sample = np.zeros((mfcc_feats.shape[0], 3 * num_ceps))\n",
    "#dataset_on_sample = np.zeros((mfcc_feats.shape[0], num_ceps))\n",
    "for j in range(mfcc_feats.shape[0]):\n",
    "    dataset_on_sample[j][:num_ceps] = mfcc_feats[j][:]\n",
    "    dataset_on_sample[j][num_ceps:2 * num_ceps] = d_mfcc[j][:]\n",
    "    dataset_on_sample[j][2 * num_ceps:3 * num_ceps] = d2_mfcc[j][:]\n",
    "\n",
    "mfcc_feat = np.concatenate((features, dataset_on_sample), axis=0)\n",
    "mfcc_feat = np.delete(mfcc_feat, 0, axis=0)\n",
    "\n",
    "#mfcc_feat -= (np.mean(mfcc_feat, axis=0) + 1e-8)\n",
    "#mfcc_feat = normalize(mfcc_feat, norm='max')"
   ]
  },
  {
   "cell_type": "code",
   "execution_count": null,
   "metadata": {},
   "outputs": [],
   "source": [
    "# Get vector combined labels:\n",
    "def combine_labels(mfcc_feat, labels, sample_rate):\n",
    "    start_frame = 0\n",
    "    end_frame = int(sample_rate * 0.032)\n",
    "    step_frame = int(sample_rate * 0.01)\n",
    "    num_frames = mfcc_feat.shape[0]\n",
    "\n",
    "    X_coor = np.zeros(num_frames)\n",
    "    Y_coor = np.zeros(num_frames)\n",
    "    Marker = np.zeros(num_frames)\n",
    "    X_coor[0] = start_frame\n",
    "    Y_coor[0] = end_frame\n",
    "\n",
    "    for i in range(1, num_frames):\n",
    "        start_frame += step_frame\n",
    "        end_frame += step_frame\n",
    "        X_coor[i] = start_frame\n",
    "        Y_coor[i] = end_frame\n",
    "        Marker[i] = labels[i]\n",
    "        \n",
    "    return X_coor, Y_coor, Marker, num_frames"
   ]
  },
  {
   "cell_type": "code",
   "execution_count": null,
   "metadata": {},
   "outputs": [],
   "source": [
    "# Get plot:\n",
    "def plot_result_VAD(sound, labels, X_coor, Y_coor, num_frames):\n",
    "    plt.figure(num=None, figsize=(16, 9), dpi=80, facecolor='w', edgecolor='k')\n",
    "    for i in range(num_frames):\n",
    "        if labels[i] == 1:\n",
    "            color_bar = 'red'\n",
    "        else:\n",
    "            color_bar = 'white'\n",
    "        plt.plot([X_coor[i], X_coor[i]], [-1, 1], color=color_bar)\n",
    "        plt.plot([X_coor[i], Y_coor[i]], [1, 1], color=color_bar)\n",
    "        plt.plot([Y_coor[i], Y_coor[i]], [-1, 1], color=color_bar)\n",
    "    \n",
    "    plt.plot(sound / max(abs(sound)), color='blue')"
   ]
  },
  {
   "cell_type": "markdown",
   "metadata": {},
   "source": [
    "# Linear SVM"
   ]
  },
  {
   "cell_type": "code",
   "execution_count": null,
   "metadata": {},
   "outputs": [],
   "source": [
    "clf_LSVC = make_pipeline(StandardScaler(), LinearSVC(random_state=0, max_iter=50000, tol=1e-5)).fit(X_train, y_train)"
   ]
  },
  {
   "cell_type": "code",
   "execution_count": null,
   "metadata": {},
   "outputs": [],
   "source": [
    "labels_LSVC = clf_LSVC.predict(mfcc_feat)"
   ]
  },
  {
   "cell_type": "code",
   "execution_count": null,
   "metadata": {},
   "outputs": [],
   "source": [
    "plot_roc_curve(clf_LSVC, X_test, y_test)"
   ]
  },
  {
   "cell_type": "code",
   "execution_count": null,
   "metadata": {},
   "outputs": [],
   "source": [
    "op_LSVC = combine_labels(mfcc_feat, labels_LSVC, sample_rate)\n",
    "plot_result_VAD(sound, op_LSVC[2], op_LSVC[0], op_LSVC[1], op_LSVC[3])"
   ]
  },
  {
   "cell_type": "code",
   "execution_count": null,
   "metadata": {},
   "outputs": [],
   "source": [
    "labels_LSVC_new = medfilt(labels_LSVC, 51)\n",
    "op_LSVC_new = combine_labels(mfcc_feat, labels_LSVC_new, sample_rate)\n",
    "plot_result_VAD(sound, op_LSVC_new[2], op_LSVC_new[0], op_LSVC_new[1], op_LSVC_new[3])"
   ]
  },
  {
   "cell_type": "code",
   "execution_count": 11,
   "metadata": {},
   "outputs": [
    {
     "data": {
      "text/plain": [
       "array([[ 0.42312113,  0.55581767,  0.15499356,  0.32318509, -0.28367759,\n",
       "        -0.12808963,  0.00715227,  0.02969692, -0.07958695, -0.02682161,\n",
       "        -0.23189075, -0.19653115, -0.09467366, -0.0427234 , -0.0017646 ,\n",
       "        -0.01982936, -0.00530833, -0.01035294,  0.00941022, -0.028494  ,\n",
       "         0.00276689,  0.00891517,  0.01957693, -0.01280737,  0.02665126,\n",
       "        -0.00388747,  0.10956189,  0.11640333,  0.04731162,  0.11674034,\n",
       "        -0.11838895, -0.06489317,  0.01071915,  0.01949375, -0.04095057,\n",
       "        -0.00704833, -0.11448222, -0.10295135, -0.05208734]])"
      ]
     },
     "execution_count": 11,
     "metadata": {},
     "output_type": "execute_result"
    }
   ],
   "source": [
    "clf_LSVC[1].coef_"
   ]
  },
  {
   "cell_type": "code",
   "execution_count": 12,
   "metadata": {},
   "outputs": [
    {
     "data": {
      "text/plain": [
       "array([-1.67498369])"
      ]
     },
     "execution_count": 12,
     "metadata": {},
     "output_type": "execute_result"
    }
   ],
   "source": [
    "clf_LSVC[1].intercept_"
   ]
  },
  {
   "cell_type": "code",
   "execution_count": 14,
   "metadata": {},
   "outputs": [
    {
     "data": {
      "text/plain": [
       "array([1.])"
      ]
     },
     "execution_count": 14,
     "metadata": {},
     "output_type": "execute_result"
    }
   ],
   "source": [
    "clf_LSVC.predict(mfcc_feat[700].reshape(1, -1))"
   ]
  },
  {
   "cell_type": "code",
   "execution_count": 84,
   "metadata": {},
   "outputs": [
    {
     "data": {
      "text/plain": [
       "array([[ 19.74972839,   5.92876154,   7.08991808,   6.08284463,\n",
       "          4.60931   ,   5.27525969,   5.27824685,   5.88213696,\n",
       "          6.53521535,   6.69079198,   7.48089929,   7.7197619 ,\n",
       "          8.10136641, 244.67947656,  44.94509246,  42.53553536,\n",
       "         42.0648654 ,  35.84037605,  33.1262905 ,  32.99054972,\n",
       "         33.84744274,  33.23803803,  34.06760818,  35.6060083 ,\n",
       "         36.68569345,  38.85797873, 695.20042019, 130.4391887 ,\n",
       "        117.3050336 , 116.12064383,  98.36434754,  89.233173  ,\n",
       "         86.95303049,  88.20511567,  86.30797431,  87.79651725,\n",
       "         91.55174248,  93.82600453,  99.1190978 ]])"
      ]
     },
     "execution_count": 84,
     "metadata": {},
     "output_type": "execute_result"
    }
   ],
   "source": [
    "#test_input = np.linspace(39, 77, 39)\n",
    "#test_input = np.linspace(0, 38, 39)\n",
    "test_input = np.linspace(78, 116, 39)\n",
    "#(test_input - u) / s\n",
    "scaled_test_input = clf_LSVC[0].transform(test_input.reshape(1, -1))\n",
    "scaled_test_input"
   ]
  },
  {
   "cell_type": "code",
   "execution_count": 85,
   "metadata": {},
   "outputs": [
    {
     "data": {
      "text/plain": [
       "array([ 78.,  79.,  80.,  81.,  82.,  83.,  84.,  85.,  86.,  87.,  88.,\n",
       "        89.,  90.,  91.,  92.,  93.,  94.,  95.,  96.,  97.,  98.,  99.,\n",
       "       100., 101., 102., 103., 104., 105., 106., 107., 108., 109., 110.,\n",
       "       111., 112., 113., 114., 115., 116.])"
      ]
     },
     "execution_count": 85,
     "metadata": {},
     "output_type": "execute_result"
    }
   ],
   "source": [
    "test_input"
   ]
  },
  {
   "cell_type": "code",
   "execution_count": 86,
   "metadata": {},
   "outputs": [
    {
     "data": {
      "text/plain": [
       "array([[ 3.22767762e-01,  4.06085702e-01,  3.62539964e-01,\n",
       "         2.13799276e-01, -3.95264931e-01, -2.92230974e-01,\n",
       "        -3.51347670e-01, -1.09742292e-01, -4.07794836e-02,\n",
       "         1.11297836e-01,  2.24575034e-02, -9.96415060e-03,\n",
       "        -2.10568745e-01,  2.65349056e-03, -6.31265294e-03,\n",
       "        -8.22606863e-03, -3.53202845e-03,  4.28434115e-03,\n",
       "         4.12582744e-04,  3.36996175e-03,  1.84148614e-03,\n",
       "        -6.00567607e-03, -1.18367130e-04,  6.13558070e-03,\n",
       "        -5.57281203e-03,  4.04300012e-03,  1.06021551e-01,\n",
       "         1.65016193e-01,  1.36318226e-01,  9.82143796e-02,\n",
       "        -1.38099307e-01, -1.28877125e-01, -1.40444681e-01,\n",
       "        -4.66569949e-02, -2.69032745e-02,  4.83070666e-02,\n",
       "         6.39746827e-03, -3.65467595e-03, -1.10618137e-01]])"
      ]
     },
     "execution_count": 86,
     "metadata": {},
     "output_type": "execute_result"
    }
   ],
   "source": [
    "clf_LSVC[1].coef_"
   ]
  },
  {
   "cell_type": "code",
   "execution_count": 87,
   "metadata": {},
   "outputs": [
    {
     "data": {
      "text/plain": [
       "array([1.])"
      ]
     },
     "execution_count": 87,
     "metadata": {},
     "output_type": "execute_result"
    }
   ],
   "source": [
    "clf_LSVC.predict(scaled_test_input)"
   ]
  },
  {
   "cell_type": "code",
   "execution_count": 88,
   "metadata": {},
   "outputs": [
    {
     "name": "stdout",
     "output_type": "stream",
     "text": [
      "6.374575630280597\n",
      "8.78216092078479\n",
      "11.352539565797748\n",
      "12.653047341852835\n",
      "10.831148745833705\n",
      "9.289554465841958\n",
      "7.435054736889684\n",
      "6.789535544389963\n",
      "6.523032837119927\n",
      "7.267703503244188\n",
      "7.435705824779508\n",
      "7.358784954615152\n",
      "5.652890398928283\n",
      "6.3021450809368\n",
      "6.018422310843037\n",
      "5.6685220778063385\n",
      "5.519947776292215\n",
      "5.67350017440909\n",
      "5.687167510234546\n",
      "5.798344401055405\n",
      "5.860673997725113\n",
      "5.661057108222766\n",
      "5.6570246232155785\n",
      "5.875488160416924\n",
      "5.671045686805524\n",
      "5.828148499416175\n",
      "79.53437544102628\n",
      "101.05895379170917\n",
      "117.04976783908351\n",
      "128.45448482641055\n",
      "114.87043659157455\n",
      "103.37032177344909\n",
      "91.15823114872012\n",
      "87.04284551518127\n",
      "84.7208783928217\n",
      "88.9620705983248\n",
      "89.54776996601828\n",
      "89.20486632363539\n",
      "78.24049638304771\n"
     ]
    }
   ],
   "source": [
    "summ = 0\n",
    "for i in range(len(scaled_test_input[0])):\n",
    "    summ = summ + scaled_test_input[0][i] * clf_LSVC[1].coef_[0][i]\n",
    "    print(summ)"
   ]
  },
  {
   "cell_type": "code",
   "execution_count": 89,
   "metadata": {},
   "outputs": [],
   "source": [
    "u = clf_LSVC[0].mean_\n",
    "s = clf_LSVC[0].scale_\n",
    "new_mfcc_feat = (mfcc_feat[700] - u) / s"
   ]
  },
  {
   "cell_type": "code",
   "execution_count": 90,
   "metadata": {},
   "outputs": [
    {
     "data": {
      "text/plain": [
       "array([[77.87291885]])"
      ]
     },
     "execution_count": 90,
     "metadata": {},
     "output_type": "execute_result"
    }
   ],
   "source": [
    "np.dot(clf_LSVC[1].coef_, scaled_test_input.T) + clf_LSVC[1].intercept_"
   ]
  },
  {
   "cell_type": "code",
   "execution_count": 91,
   "metadata": {},
   "outputs": [
    {
     "data": {
      "text/plain": [
       "array([-0.36757753])"
      ]
     },
     "execution_count": 91,
     "metadata": {},
     "output_type": "execute_result"
    }
   ],
   "source": [
    "clf_LSVC[1].intercept_"
   ]
  },
  {
   "cell_type": "code",
   "execution_count": 92,
   "metadata": {},
   "outputs": [
    {
     "data": {
      "text/plain": [
       "array([[78.24049638]])"
      ]
     },
     "execution_count": 92,
     "metadata": {},
     "output_type": "execute_result"
    }
   ],
   "source": [
    "np.dot(clf_LSVC[1].coef_, scaled_test_input.T)"
   ]
  },
  {
   "cell_type": "code",
   "execution_count": 27,
   "metadata": {},
   "outputs": [
    {
     "data": {
      "text/plain": [
       "array([ 3.22767762e-01,  4.06085702e-01,  3.62539964e-01,  2.13799276e-01,\n",
       "       -3.95264931e-01, -2.92230974e-01, -3.51347670e-01, -1.09742292e-01,\n",
       "       -4.07794836e-02,  1.11297836e-01,  2.24575034e-02, -9.96415060e-03,\n",
       "       -2.10568745e-01,  2.65349056e-03, -6.31265294e-03, -8.22606863e-03,\n",
       "       -3.53202845e-03,  4.28434115e-03,  4.12582744e-04,  3.36996175e-03,\n",
       "        1.84148614e-03, -6.00567607e-03, -1.18367130e-04,  6.13558070e-03,\n",
       "       -5.57281203e-03,  4.04300012e-03,  1.06021551e-01,  1.65016193e-01,\n",
       "        1.36318226e-01,  9.82143796e-02, -1.38099307e-01, -1.28877125e-01,\n",
       "       -1.40444681e-01, -4.66569949e-02, -2.69032745e-02,  4.83070666e-02,\n",
       "        6.39746827e-03, -3.65467595e-03, -1.10618137e-01])"
      ]
     },
     "execution_count": 27,
     "metadata": {},
     "output_type": "execute_result"
    }
   ],
   "source": [
    "clf_LSVC[1].coef_[0]"
   ]
  },
  {
   "cell_type": "code",
   "execution_count": 28,
   "metadata": {},
   "outputs": [],
   "source": [
    "def float_to_hex(f):\n",
    "    return hex(struct.unpack('<I', struct.pack('<f', f))[0])\n",
    "\n",
    "list_hex = []\n",
    "for i in range(len(clf_LSVC[1].coef_[0])):\n",
    "    list_hex.append(float_to_hex(clf_LSVC[1].coef_[0][i]))"
   ]
  },
  {
   "cell_type": "code",
   "execution_count": 29,
   "metadata": {},
   "outputs": [],
   "source": [
    "list_strings = []\n",
    "for i in range(39):\n",
    "    list_strings.append(\"assign weights_SVM[\" + str(i) + \"] = 32'h\" + str(list_hex[i][2:]) + \";\")"
   ]
  },
  {
   "cell_type": "code",
   "execution_count": 30,
   "metadata": {},
   "outputs": [
    {
     "data": {
      "text/plain": [
       "[\"assign weights_SVM[0] = 32'h3ea541d1;\",\n",
       " \"assign weights_SVM[1] = 32'h3ecfea77;\",\n",
       " \"assign weights_SVM[2] = 32'h3eb99ed7;\",\n",
       " \"assign weights_SVM[3] = 32'h3e5aee33;\",\n",
       " \"assign weights_SVM[4] = 32'hbeca602a;\",\n",
       " \"assign weights_SVM[5] = 32'hbe959f4c;\",\n",
       " \"assign weights_SVM[6] = 32'hbeb3e3d7;\",\n",
       " \"assign weights_SVM[7] = 32'hbde0c091;\",\n",
       " \"assign weights_SVM[8] = 32'hbd270863;\",\n",
       " \"assign weights_SVM[9] = 32'h3de3f01f;\",\n",
       " \"assign weights_SVM[10] = 32'h3cb7f8cc;\",\n",
       " \"assign weights_SVM[11] = 32'hbc2340ad;\",\n",
       " \"assign weights_SVM[12] = 32'hbe579f55;\",\n",
       " \"assign weights_SVM[13] = 32'h3b2de62f;\",\n",
       " \"assign weights_SVM[14] = 32'hbbceda5f;\",\n",
       " \"assign weights_SVM[15] = 32'hbc06c6a2;\",\n",
       " \"assign weights_SVM[16] = 32'hbb67799b;\",\n",
       " \"assign weights_SVM[17] = 32'h3b8c63a9;\",\n",
       " \"assign weights_SVM[18] = 32'h39d84feb;\",\n",
       " \"assign weights_SVM[19] = 32'h3b5cda94;\",\n",
       " \"assign weights_SVM[20] = 32'h3af15e05;\",\n",
       " \"assign weights_SVM[21] = 32'hbbc4cb43;\",\n",
       " \"assign weights_SVM[22] = 32'hb8f83bde;\",\n",
       " \"assign weights_SVM[23] = 32'h3bc90cfb;\",\n",
       " \"assign weights_SVM[24] = 32'hbbb69c23;\",\n",
       " \"assign weights_SVM[25] = 32'h3b847b25;\",\n",
       " \"assign weights_SVM[26] = 32'h3dd921d4;\",\n",
       " \"assign weights_SVM[27] = 32'h3e28fa01;\",\n",
       " \"assign weights_SVM[28] = 32'h3e0b9701;\",\n",
       " \"assign weights_SVM[29] = 32'h3dc9249f;\",\n",
       " \"assign weights_SVM[30] = 32'hbe0d69e8;\",\n",
       " \"assign weights_SVM[31] = 32'hbe03f85d;\",\n",
       " \"assign weights_SVM[32] = 32'hbe0fd0bb;\",\n",
       " \"assign weights_SVM[33] = 32'hbd3f1b68;\",\n",
       " \"assign weights_SVM[34] = 32'hbcdc6442;\",\n",
       " \"assign weights_SVM[35] = 32'h3d45dda1;\",\n",
       " \"assign weights_SVM[36] = 32'h3bd1a1db;\",\n",
       " \"assign weights_SVM[37] = 32'hbb6f834a;\",\n",
       " \"assign weights_SVM[38] = 32'hbde28bc3;\"]"
      ]
     },
     "execution_count": 30,
     "metadata": {},
     "output_type": "execute_result"
    }
   ],
   "source": [
    "list_strings"
   ]
  },
  {
   "cell_type": "markdown",
   "metadata": {},
   "source": [
    "# labels"
   ]
  },
  {
   "cell_type": "code",
   "execution_count": 33,
   "metadata": {},
   "outputs": [
    {
     "name": "stdout",
     "output_type": "stream",
     "text": [
      "697758 341582\n"
     ]
    },
    {
     "data": {
      "text/plain": [
       "(array([0., 0., 0., ..., 0., 0., 0.]),\n",
       " array([697757.5       , 697757.50000293, 697757.50000586, ...,\n",
       "        697758.49999414, 697758.49999707, 697758.5       ]),\n",
       " <a list of 341582 Patch objects>)"
      ]
     },
     "execution_count": 33,
     "metadata": {},
     "output_type": "execute_result"
    },
    {
     "data": {
      "image/png": "[encoded data removed]",
      "text/plain": [
       "<Figure size 432x288 with 1 Axes>"
      ]
     },
     "metadata": {
      "needs_background": "light"
     },
     "output_type": "display_data"
    }
   ],
   "source": [
    "count_ones = 0\n",
    "for i in range(len(labels)):\n",
    "    if labels[i] == 1:\n",
    "        count_ones = count_ones + 1\n",
    "        \n",
    "count_zeros = len(labels) - count_ones\n",
    "\n",
    "print(count_zeros, count_ones)"
   ]
  },
  {
   "cell_type": "code",
   "execution_count": 39,
   "metadata": {},
   "outputs": [],
   "source": [
    "# 1-d:\n",
    "def write_1d(input_vec, filename):\n",
    "    txt_list = []\n",
    "    for i in range(len(input_vec)):\n",
    "        if i == 0:\n",
    "            txt_list.append('{ ')\n",
    "        txt_list.append(str(input_vec[i]))\n",
    "        if i == len(input_vec) - 1:\n",
    "            txt_list.append(' },')\n",
    "        else:\n",
    "            txt_list.append(', ')\n",
    "        \n",
    "    f = open(filename, 'w')\n",
    "    f.writelines(txt_list)\n",
    "    f.close()"
   ]
  },
  {
   "cell_type": "code",
   "execution_count": 40,
   "metadata": {},
   "outputs": [],
   "source": [
    "# 2-d:\n",
    "def write_2d(input_vec, filename):\n",
    "    txt_list = []\n",
    "    for i in range(input_vec.shape[0]):\n",
    "        for j in range(input_vec.shape[1]):\n",
    "            if j == 0:\n",
    "                txt_list.append('{ ')\n",
    "            txt_list.append(str(input_vec[i][j]))\n",
    "            if j == input_vec.shape[1] - 1:\n",
    "                txt_list.append(' },')\n",
    "            else:\n",
    "                txt_list.append(', ')\n",
    "                \n",
    "    f = open(filename, 'w')\n",
    "    f.writelines(txt_list)\n",
    "    f.close()"
   ]
  },
  {
   "cell_type": "code",
   "execution_count": 41,
   "metadata": {},
   "outputs": [],
   "source": [
    "write_1d(mfcc_feat[0], 'test_input.txt')\n",
    "write_1d(np.linspace(0, 38, 39), 'test_input_counter.txt')\n",
    "write_1d(clf_MLP.coefs_[1], 'coefs_second.txt')\n",
    "write_1d(clf_MLP.intercepts_[0], 'intercepts_first.txt')"
   ]
  },
  {
   "cell_type": "code",
   "execution_count": 42,
   "metadata": {},
   "outputs": [],
   "source": [
    "write_2d(clf_MLP.coefs_[0], 'coefs_first.txt')"
   ]
  },
  {
   "cell_type": "code",
   "execution_count": 43,
   "metadata": {},
   "outputs": [
    {
     "data": {
      "text/plain": [
       "array([-1.88764714])"
      ]
     },
     "execution_count": 43,
     "metadata": {},
     "output_type": "execute_result"
    }
   ],
   "source": [
    "clf_MLP.intercepts_[1]"
   ]
  },
  {
   "cell_type": "code",
   "execution_count": 44,
   "metadata": {},
   "outputs": [],
   "source": [
    "a = np.array([10, 11, 12, 6, 3, 2, 6, 8, 1, 4, 6, 7, 8, 3, 1, 5, 78, 52, 5, 6, 7, 52])\n",
    "b = medfilt(a, 3)"
   ]
  },
  {
   "cell_type": "code",
   "execution_count": 45,
   "metadata": {},
   "outputs": [
    {
     "data": {
      "text/plain": [
       "array([10., 11., 11.,  6.,  3.,  3.,  6.,  6.,  4.,  4.,  6.,  7.,  7.,\n",
       "        3.,  3.,  5., 52., 52.,  6.,  6.,  7.,  7.])"
      ]
     },
     "execution_count": 45,
     "metadata": {},
     "output_type": "execute_result"
    }
   ],
   "source": [
    "b"
   ]
  },
  {
   "cell_type": "code",
   "execution_count": 2,
   "metadata": {},
   "outputs": [],
   "source": [
    "kernel_size = 41\n",
    "test = np.linspace(0, kernel_size - 1, kernel_size)"
   ]
  },
  {
   "cell_type": "code",
   "execution_count": 4,
   "metadata": {},
   "outputs": [
    {
     "data": {
      "text/plain": [
       "array([ 0.,  1.,  2.,  3.,  4.,  5.,  6.,  7.,  8.,  9., 10., 11., 12.,\n",
       "       13., 14., 15., 16., 17., 18., 19., 20., 20., 20., 20., 20., 20.,\n",
       "       20., 20., 20., 20., 20., 20., 20., 20., 20., 20., 20., 20., 20.,\n",
       "       20., 20.])"
      ]
     },
     "execution_count": 4,
     "metadata": {},
     "output_type": "execute_result"
    }
   ],
   "source": [
    "medfilt(test, kernel_size)"
   ]
  },
  {
   "cell_type": "code",
   "execution_count": null,
   "metadata": {},
   "outputs": [],
   "source": []
  }
 ],
 "metadata": {
  "kernelspec": {
   "display_name": "Python 3",
   "language": "python",
   "name": "python3"
  },
  "language_info": {
   "codemirror_mode": {
    "name": "ipython",
    "version": 3
   },
   "file_extension": ".py",
   "mimetype": "text/x-python",
   "name": "python",
   "nbconvert_exporter": "python",
   "pygments_lexer": "ipython3",
   "version": "3.8.3"
  }
 },
 "nbformat": 4,
 "nbformat_minor": 4
}
