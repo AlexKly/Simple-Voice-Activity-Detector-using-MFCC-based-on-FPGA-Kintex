{
 "cells": [
  {
   "cell_type": "markdown",
   "metadata": {},
   "source": [
    "## Libraries"
   ]
  },
  {
   "cell_type": "code",
   "execution_count": 14,
   "metadata": {},
   "outputs": [],
   "source": [
    "# Common:\n",
    "import numpy as np\n",
    "import pandas as pd\n",
    "import scipy.io.wavfile as wav\n",
    "import resampy\n",
    "import struct\n",
    "\n",
    "# Features engineering:\n",
    "from python_speech_features import mfcc, delta\n",
    "\n",
    "# Keras tools:\n",
    "import tensorflow as tf\n",
    "\n",
    "# Sklearn tools:\n",
    "from sklearn import model_selection, pipeline, preprocessing, metrics\n",
    "\n",
    "# Graphics:\n",
    "import matplotlib.pyplot as plt"
   ]
  },
  {
   "cell_type": "markdown",
   "metadata": {},
   "source": [
    "## Common params and settings"
   ]
  },
  {
   "cell_type": "code",
   "execution_count": 42,
   "metadata": {},
   "outputs": [],
   "source": [
    "# Paths:\n",
    "TRAIN_FILE = 'C:/Users/Alex/Desktop/Untitled Folder/Features/train_features.csv'\n",
    "REAL_SIGNAL = 'C:/Users/Alex/Desktop/Vega-VAD project/data/real/room.wav'\n",
    "\n",
    "# Features:\n",
    "SAMPLE_RATE = 16000\n",
    "PREEMPHASIS_COEF = 0.95  # Coefficient for pre-processing filter\n",
    "FRAME_LENGTH = 0.032  # Window length in sec\n",
    "FRAME_STEP = 0.01  # Length of step in sec\n",
    "WINDOW_FUNCTION = np.hamming  # Type of window function\n",
    "NFFT = 512  # Points of FFT\n",
    "NFILTERS = 26\n",
    "CEPLIFTER = 22\n",
    "APPEND_ENERGY = True\n",
    "NFEATURES = 13  # Number of Mel filters\n",
    "\n",
    "# Params for MLP classifier:\n",
    "TEST_SIZE = 0.3\n",
    "ACTIVATE_FUNCTION = 'relu'\n",
    "SOLVER = 'adam'\n",
    "BATCH_SIZE = 64\n",
    "EPOCHS = 10\n",
    "CALL_BACKS = None"
   ]
  },
  {
   "cell_type": "markdown",
   "metadata": {},
   "source": [
    "## Importing data"
   ]
  },
  {
   "cell_type": "code",
   "execution_count": 3,
   "metadata": {},
   "outputs": [],
   "source": [
    "# Load data set for training:\n",
    "mfcc_features = pd.read_csv(TRAIN_FILE, header=None)\n",
    "mfcc_features = np.array(mfcc_features)\n",
    "\n",
    "labels = np.zeros((mfcc_features.shape[0]))\n",
    "data_feat = np.zeros((mfcc_features.shape[0], mfcc_features.shape[1] - 1))\n",
    "for i in range(mfcc_features.shape[0]):\n",
    "    labels[i] = mfcc_features[i][0]\n",
    "    data_feat[i][:] = mfcc_features[i][1:]"
   ]
  },
  {
   "cell_type": "markdown",
   "metadata": {},
   "source": [
    "## Spliting data"
   ]
  },
  {
   "cell_type": "code",
   "execution_count": 4,
   "metadata": {},
   "outputs": [],
   "source": [
    "X_train, X_test, y_train, y_test = model_selection.train_test_split(data_feat,\n",
    "                                                                    labels,\n",
    "                                                                    test_size=TEST_SIZE,\n",
    "                                                                    shuffle=True,\n",
    "                                                                    random_state=1)"
   ]
  },
  {
   "cell_type": "markdown",
   "metadata": {},
   "source": [
    "## Scaling data"
   ]
  },
  {
   "cell_type": "code",
   "execution_count": 76,
   "metadata": {},
   "outputs": [],
   "source": [
    "scaler = preprocessing.StandardScaler()\n",
    "X_train_scaled = scaler.fit_transform(X_train)\n",
    "X_test_scaled = scaler.transform(X_test)\n",
    "\n",
    "y_train_cat = tf.keras.utils.to_categorical(y_train)\n",
    "y_test_cat = tf.keras.utils.to_categorical(y_test)"
   ]
  },
  {
   "cell_type": "markdown",
   "metadata": {},
   "source": [
    "## Building and fitting the model"
   ]
  },
  {
   "cell_type": "code",
   "execution_count": 77,
   "metadata": {},
   "outputs": [],
   "source": [
    "model = tf.keras.models.Sequential()\n",
    "model.add(tf.keras.Input(shape=(X_train_scaled.shape[1], )))\n",
    "model.add(tf.keras.layers.Dense(128, activation='relu'))\n",
    "model.add(tf.keras.layers.Dense(64, activation='relu'))\n",
    "model.add(tf.keras.layers.Dense(32, activation='relu'))\n",
    "model.add(tf.keras.layers.Dense(16, activation='relu'))\n",
    "model.add(tf.keras.layers.Dense(2))\n",
    "model.compile(optimizer='adam', loss='binary_crossentropy',metrics=['accuracy'])"
   ]
  },
  {
   "cell_type": "code",
   "execution_count": 91,
   "metadata": {},
   "outputs": [
    {
     "name": "stdout",
     "output_type": "stream",
     "text": [
      "Epoch 1/10\n"
     ]
    },
    {
     "ename": "TypeError",
     "evalue": "'NoneType' object is not callable",
     "output_type": "error",
     "traceback": [
      "\u001b[1;31m---------------------------------------------------------------------------\u001b[0m",
      "\u001b[1;31mTypeError\u001b[0m                                 Traceback (most recent call last)",
      "\u001b[1;32m<ipython-input-91-4361cb33134c>\u001b[0m in \u001b[0;36m<module>\u001b[1;34m\u001b[0m\n\u001b[1;32m----> 1\u001b[1;33m model.fit(X_train_scaled, y_train_reshaped,\n\u001b[0m\u001b[0;32m      2\u001b[0m           \u001b[0mvalidation_data\u001b[0m\u001b[1;33m=\u001b[0m\u001b[1;33m(\u001b[0m\u001b[0mX_test_scaled\u001b[0m\u001b[1;33m,\u001b[0m \u001b[0my_test_reshaped\u001b[0m\u001b[1;33m)\u001b[0m\u001b[1;33m,\u001b[0m\u001b[1;33m\u001b[0m\u001b[1;33m\u001b[0m\u001b[0m\n\u001b[0;32m      3\u001b[0m           epochs=EPOCHS, batch_size=BATCH_SIZE, callbacks=CALL_BACKS)\n",
      "\u001b[1;32mD:\\Program\\Anaconda\\lib\\site-packages\\keras\\utils\\traceback_utils.py\u001b[0m in \u001b[0;36merror_handler\u001b[1;34m(*args, **kwargs)\u001b[0m\n\u001b[0;32m     65\u001b[0m     \u001b[1;32mexcept\u001b[0m \u001b[0mException\u001b[0m \u001b[1;32mas\u001b[0m \u001b[0me\u001b[0m\u001b[1;33m:\u001b[0m  \u001b[1;31m# pylint: disable=broad-except\u001b[0m\u001b[1;33m\u001b[0m\u001b[1;33m\u001b[0m\u001b[0m\n\u001b[0;32m     66\u001b[0m       \u001b[0mfiltered_tb\u001b[0m \u001b[1;33m=\u001b[0m \u001b[0m_process_traceback_frames\u001b[0m\u001b[1;33m(\u001b[0m\u001b[0me\u001b[0m\u001b[1;33m.\u001b[0m\u001b[0m__traceback__\u001b[0m\u001b[1;33m)\u001b[0m\u001b[1;33m\u001b[0m\u001b[1;33m\u001b[0m\u001b[0m\n\u001b[1;32m---> 67\u001b[1;33m       \u001b[1;32mraise\u001b[0m \u001b[0me\u001b[0m\u001b[1;33m.\u001b[0m\u001b[0mwith_traceback\u001b[0m\u001b[1;33m(\u001b[0m\u001b[0mfiltered_tb\u001b[0m\u001b[1;33m)\u001b[0m \u001b[1;32mfrom\u001b[0m \u001b[1;32mNone\u001b[0m\u001b[1;33m\u001b[0m\u001b[1;33m\u001b[0m\u001b[0m\n\u001b[0m\u001b[0;32m     68\u001b[0m     \u001b[1;32mfinally\u001b[0m\u001b[1;33m:\u001b[0m\u001b[1;33m\u001b[0m\u001b[1;33m\u001b[0m\u001b[0m\n\u001b[0;32m     69\u001b[0m       \u001b[1;32mdel\u001b[0m \u001b[0mfiltered_tb\u001b[0m\u001b[1;33m\u001b[0m\u001b[1;33m\u001b[0m\u001b[0m\n",
      "\u001b[1;32mD:\\Program\\Anaconda\\lib\\site-packages\\tensorflow\\python\\eager\\def_function.py\u001b[0m in \u001b[0;36m_call\u001b[1;34m(self, *args, **kwds)\u001b[0m\n\u001b[0;32m    940\u001b[0m       \u001b[1;31m# In this case we have created variables on the first call, so we run the\u001b[0m\u001b[1;33m\u001b[0m\u001b[1;33m\u001b[0m\u001b[1;33m\u001b[0m\u001b[0m\n\u001b[0;32m    941\u001b[0m       \u001b[1;31m# defunned version which is guaranteed to never create variables.\u001b[0m\u001b[1;33m\u001b[0m\u001b[1;33m\u001b[0m\u001b[1;33m\u001b[0m\u001b[0m\n\u001b[1;32m--> 942\u001b[1;33m       \u001b[1;32mreturn\u001b[0m \u001b[0mself\u001b[0m\u001b[1;33m.\u001b[0m\u001b[0m_stateless_fn\u001b[0m\u001b[1;33m(\u001b[0m\u001b[1;33m*\u001b[0m\u001b[0margs\u001b[0m\u001b[1;33m,\u001b[0m \u001b[1;33m**\u001b[0m\u001b[0mkwds\u001b[0m\u001b[1;33m)\u001b[0m  \u001b[1;31m# pylint: disable=not-callable\u001b[0m\u001b[1;33m\u001b[0m\u001b[1;33m\u001b[0m\u001b[0m\n\u001b[0m\u001b[0;32m    943\u001b[0m     \u001b[1;32melif\u001b[0m \u001b[0mself\u001b[0m\u001b[1;33m.\u001b[0m\u001b[0m_stateful_fn\u001b[0m \u001b[1;32mis\u001b[0m \u001b[1;32mnot\u001b[0m \u001b[1;32mNone\u001b[0m\u001b[1;33m:\u001b[0m\u001b[1;33m\u001b[0m\u001b[1;33m\u001b[0m\u001b[0m\n\u001b[0;32m    944\u001b[0m       \u001b[1;31m# Release the lock early so that multiple threads can perform the call\u001b[0m\u001b[1;33m\u001b[0m\u001b[1;33m\u001b[0m\u001b[1;33m\u001b[0m\u001b[0m\n",
      "\u001b[1;31mTypeError\u001b[0m: 'NoneType' object is not callable"
     ]
    }
   ],
   "source": [
    "model.fit(X_train_scaled, y_train_cat,\n",
    "          validation_data=(X_test_scaled, y_test_cat),\n",
    "          epochs=EPOCHS, batch_size=BATCH_SIZE, callbacks=CALL_BACKS)"
   ]
  },
  {
   "cell_type": "markdown",
   "metadata": {},
   "source": [
    "## Performing prediction"
   ]
  },
  {
   "cell_type": "code",
   "execution_count": 69,
   "metadata": {},
   "outputs": [],
   "source": [
    "def plot_roc_curve(fpr: np.ndarray, tpr: np.ndarray) -> None: \n",
    "    plt.plot(fpr, tpr)\n",
    "    plt.axis([0, 1, 0, 1])\n",
    "    plt.xlabel('False Positive Rate')\n",
    "    plt.ylabel('True Positive Rate')\n",
    "    plt.show()"
   ]
  },
  {
   "cell_type": "code",
   "execution_count": 70,
   "metadata": {},
   "outputs": [
    {
     "ename": "ValueError",
     "evalue": "Found input variables with inconsistent numbers of samples: [8832720, 17665440]",
     "output_type": "error",
     "traceback": [
      "\u001b[1;31m---------------------------------------------------------------------------\u001b[0m",
      "\u001b[1;31mValueError\u001b[0m                                Traceback (most recent call last)",
      "\u001b[1;32m<ipython-input-70-ec3178c65e0e>\u001b[0m in \u001b[0;36m<module>\u001b[1;34m\u001b[0m\n\u001b[0;32m      1\u001b[0m \u001b[0my_test_predicted_proba\u001b[0m \u001b[1;33m=\u001b[0m \u001b[0mmodel\u001b[0m\u001b[1;33m.\u001b[0m\u001b[0mpredict\u001b[0m\u001b[1;33m(\u001b[0m\u001b[0mX_test\u001b[0m\u001b[1;33m)\u001b[0m\u001b[1;33m.\u001b[0m\u001b[0mravel\u001b[0m\u001b[1;33m(\u001b[0m\u001b[1;33m)\u001b[0m\u001b[1;33m\u001b[0m\u001b[1;33m\u001b[0m\u001b[0m\n\u001b[0;32m      2\u001b[0m \u001b[1;33m\u001b[0m\u001b[0m\n\u001b[1;32m----> 3\u001b[1;33m \u001b[0mfpr\u001b[0m\u001b[1;33m,\u001b[0m \u001b[0mtpr\u001b[0m\u001b[1;33m,\u001b[0m \u001b[0mthresholds\u001b[0m \u001b[1;33m=\u001b[0m \u001b[0mmetrics\u001b[0m\u001b[1;33m.\u001b[0m\u001b[0mroc_curve\u001b[0m\u001b[1;33m(\u001b[0m\u001b[0my_test\u001b[0m\u001b[1;33m,\u001b[0m \u001b[0my_test_predicted_proba\u001b[0m\u001b[1;33m)\u001b[0m\u001b[1;33m\u001b[0m\u001b[1;33m\u001b[0m\u001b[0m\n\u001b[0m\u001b[0;32m      4\u001b[0m \u001b[0mauc_score\u001b[0m \u001b[1;33m=\u001b[0m \u001b[0mmetrics\u001b[0m\u001b[1;33m.\u001b[0m\u001b[0mroc_auc_score\u001b[0m\u001b[1;33m(\u001b[0m\u001b[0my_test\u001b[0m\u001b[1;33m,\u001b[0m \u001b[0my_test_predicted_proba\u001b[0m\u001b[1;33m)\u001b[0m\u001b[1;33m\u001b[0m\u001b[1;33m\u001b[0m\u001b[0m\n\u001b[0;32m      5\u001b[0m \u001b[0mplot_roc_curve\u001b[0m\u001b[1;33m(\u001b[0m\u001b[0mfpr\u001b[0m\u001b[1;33m=\u001b[0m\u001b[0mfpr\u001b[0m\u001b[1;33m,\u001b[0m \u001b[0mtpr\u001b[0m\u001b[1;33m=\u001b[0m\u001b[0mtpr\u001b[0m\u001b[1;33m)\u001b[0m\u001b[1;33m\u001b[0m\u001b[1;33m\u001b[0m\u001b[0m\n",
      "\u001b[1;32mD:\\Program\\Anaconda\\lib\\site-packages\\sklearn\\utils\\validation.py\u001b[0m in \u001b[0;36minner_f\u001b[1;34m(*args, **kwargs)\u001b[0m\n\u001b[0;32m     71\u001b[0m                           FutureWarning)\n\u001b[0;32m     72\u001b[0m         \u001b[0mkwargs\u001b[0m\u001b[1;33m.\u001b[0m\u001b[0mupdate\u001b[0m\u001b[1;33m(\u001b[0m\u001b[1;33m{\u001b[0m\u001b[0mk\u001b[0m\u001b[1;33m:\u001b[0m \u001b[0marg\u001b[0m \u001b[1;32mfor\u001b[0m \u001b[0mk\u001b[0m\u001b[1;33m,\u001b[0m \u001b[0marg\u001b[0m \u001b[1;32min\u001b[0m \u001b[0mzip\u001b[0m\u001b[1;33m(\u001b[0m\u001b[0msig\u001b[0m\u001b[1;33m.\u001b[0m\u001b[0mparameters\u001b[0m\u001b[1;33m,\u001b[0m \u001b[0margs\u001b[0m\u001b[1;33m)\u001b[0m\u001b[1;33m}\u001b[0m\u001b[1;33m)\u001b[0m\u001b[1;33m\u001b[0m\u001b[1;33m\u001b[0m\u001b[0m\n\u001b[1;32m---> 73\u001b[1;33m         \u001b[1;32mreturn\u001b[0m \u001b[0mf\u001b[0m\u001b[1;33m(\u001b[0m\u001b[1;33m**\u001b[0m\u001b[0mkwargs\u001b[0m\u001b[1;33m)\u001b[0m\u001b[1;33m\u001b[0m\u001b[1;33m\u001b[0m\u001b[0m\n\u001b[0m\u001b[0;32m     74\u001b[0m     \u001b[1;32mreturn\u001b[0m \u001b[0minner_f\u001b[0m\u001b[1;33m\u001b[0m\u001b[1;33m\u001b[0m\u001b[0m\n\u001b[0;32m     75\u001b[0m \u001b[1;33m\u001b[0m\u001b[0m\n",
      "\u001b[1;32mD:\\Program\\Anaconda\\lib\\site-packages\\sklearn\\metrics\\_ranking.py\u001b[0m in \u001b[0;36mroc_curve\u001b[1;34m(y_true, y_score, pos_label, sample_weight, drop_intermediate)\u001b[0m\n\u001b[0;32m    773\u001b[0m \u001b[1;33m\u001b[0m\u001b[0m\n\u001b[0;32m    774\u001b[0m     \"\"\"\n\u001b[1;32m--> 775\u001b[1;33m     fps, tps, thresholds = _binary_clf_curve(\n\u001b[0m\u001b[0;32m    776\u001b[0m         y_true, y_score, pos_label=pos_label, sample_weight=sample_weight)\n\u001b[0;32m    777\u001b[0m \u001b[1;33m\u001b[0m\u001b[0m\n",
      "\u001b[1;32mD:\\Program\\Anaconda\\lib\\site-packages\\sklearn\\metrics\\_ranking.py\u001b[0m in \u001b[0;36m_binary_clf_curve\u001b[1;34m(y_true, y_score, pos_label, sample_weight)\u001b[0m\n\u001b[0;32m    539\u001b[0m         \u001b[1;32mraise\u001b[0m \u001b[0mValueError\u001b[0m\u001b[1;33m(\u001b[0m\u001b[1;34m\"{0} format is not supported\"\u001b[0m\u001b[1;33m.\u001b[0m\u001b[0mformat\u001b[0m\u001b[1;33m(\u001b[0m\u001b[0my_type\u001b[0m\u001b[1;33m)\u001b[0m\u001b[1;33m)\u001b[0m\u001b[1;33m\u001b[0m\u001b[1;33m\u001b[0m\u001b[0m\n\u001b[0;32m    540\u001b[0m \u001b[1;33m\u001b[0m\u001b[0m\n\u001b[1;32m--> 541\u001b[1;33m     \u001b[0mcheck_consistent_length\u001b[0m\u001b[1;33m(\u001b[0m\u001b[0my_true\u001b[0m\u001b[1;33m,\u001b[0m \u001b[0my_score\u001b[0m\u001b[1;33m,\u001b[0m \u001b[0msample_weight\u001b[0m\u001b[1;33m)\u001b[0m\u001b[1;33m\u001b[0m\u001b[1;33m\u001b[0m\u001b[0m\n\u001b[0m\u001b[0;32m    542\u001b[0m     \u001b[0my_true\u001b[0m \u001b[1;33m=\u001b[0m \u001b[0mcolumn_or_1d\u001b[0m\u001b[1;33m(\u001b[0m\u001b[0my_true\u001b[0m\u001b[1;33m)\u001b[0m\u001b[1;33m\u001b[0m\u001b[1;33m\u001b[0m\u001b[0m\n\u001b[0;32m    543\u001b[0m     \u001b[0my_score\u001b[0m \u001b[1;33m=\u001b[0m \u001b[0mcolumn_or_1d\u001b[0m\u001b[1;33m(\u001b[0m\u001b[0my_score\u001b[0m\u001b[1;33m)\u001b[0m\u001b[1;33m\u001b[0m\u001b[1;33m\u001b[0m\u001b[0m\n",
      "\u001b[1;32mD:\\Program\\Anaconda\\lib\\site-packages\\sklearn\\utils\\validation.py\u001b[0m in \u001b[0;36mcheck_consistent_length\u001b[1;34m(*arrays)\u001b[0m\n\u001b[0;32m    254\u001b[0m     \u001b[0muniques\u001b[0m \u001b[1;33m=\u001b[0m \u001b[0mnp\u001b[0m\u001b[1;33m.\u001b[0m\u001b[0munique\u001b[0m\u001b[1;33m(\u001b[0m\u001b[0mlengths\u001b[0m\u001b[1;33m)\u001b[0m\u001b[1;33m\u001b[0m\u001b[1;33m\u001b[0m\u001b[0m\n\u001b[0;32m    255\u001b[0m     \u001b[1;32mif\u001b[0m \u001b[0mlen\u001b[0m\u001b[1;33m(\u001b[0m\u001b[0muniques\u001b[0m\u001b[1;33m)\u001b[0m \u001b[1;33m>\u001b[0m \u001b[1;36m1\u001b[0m\u001b[1;33m:\u001b[0m\u001b[1;33m\u001b[0m\u001b[1;33m\u001b[0m\u001b[0m\n\u001b[1;32m--> 256\u001b[1;33m         raise ValueError(\"Found input variables with inconsistent numbers of\"\n\u001b[0m\u001b[0;32m    257\u001b[0m                          \" samples: %r\" % [int(l) for l in lengths])\n\u001b[0;32m    258\u001b[0m \u001b[1;33m\u001b[0m\u001b[0m\n",
      "\u001b[1;31mValueError\u001b[0m: Found input variables with inconsistent numbers of samples: [8832720, 17665440]"
     ]
    }
   ],
   "source": [
    "y_test_predicted_proba = model.predict(X_test).ravel()\n",
    "\n",
    "fpr, tpr, thresholds = metrics.roc_curve(y_test, y_test_predicted_proba)\n",
    "auc_score = metrics.roc_auc_score(y_test, y_test_predicted_proba)\n",
    "plot_roc_curve(fpr=fpr, tpr=tpr)\n",
    "\n",
    "\n",
    "print(auc_score)"
   ]
  },
  {
   "cell_type": "code",
   "execution_count": 75,
   "metadata": {},
   "outputs": [
    {
     "data": {
      "text/plain": [
       "(8832720, 39)"
      ]
     },
     "execution_count": 75,
     "metadata": {},
     "output_type": "execute_result"
    }
   ],
   "source": [
    "X_test.shape"
   ]
  },
  {
   "cell_type": "code",
   "execution_count": 72,
   "metadata": {},
   "outputs": [
    {
     "data": {
      "text/plain": [
       "(17665440,)"
      ]
     },
     "execution_count": 72,
     "metadata": {},
     "output_type": "execute_result"
    }
   ],
   "source": [
    "y_test_predicted_proba.shape"
   ]
  },
  {
   "cell_type": "code",
   "execution_count": 73,
   "metadata": {},
   "outputs": [
    {
     "data": {
      "text/plain": [
       "(8832720,)"
      ]
     },
     "execution_count": 73,
     "metadata": {},
     "output_type": "execute_result"
    }
   ],
   "source": [
    "y_test.shape"
   ]
  },
  {
   "cell_type": "code",
   "execution_count": 74,
   "metadata": {},
   "outputs": [
    {
     "data": {
      "text/plain": [
       "array([0., 0., 0., ..., 1., 1., 0.])"
      ]
     },
     "execution_count": 74,
     "metadata": {},
     "output_type": "execute_result"
    }
   ],
   "source": [
    "y_test"
   ]
  },
  {
   "cell_type": "markdown",
   "metadata": {},
   "source": [
    "## Performing test on the real signal"
   ]
  },
  {
   "cell_type": "code",
   "execution_count": 55,
   "metadata": {},
   "outputs": [],
   "source": [
    "def getFeatures(sig: np.ndarray) -> np.ndarray:\n",
    "    features = np.zeros((1, 3 * NFEATURES))\n",
    "    \n",
    "    mfcc_feats = mfcc(sig,\n",
    "                      SAMPLE_RATE,\n",
    "                      winlen=FRAME_LENGTH,\n",
    "                      winstep=FRAME_STEP,\n",
    "                      numcep=NFEATURES,\n",
    "                      nfilt=NFILTERS,\n",
    "                      nfft=NFFT,\n",
    "                      lowfreq=0,\n",
    "                      highfreq=None,\n",
    "                      preemph=PREEMPHASIS_COEF,\n",
    "                      ceplifter=CEPLIFTER,\n",
    "                      appendEnergy=APPEND_ENERGY,\n",
    "                      winfunc=WINDOW_FUNCTION)\n",
    "    d_mfcc = delta(mfcc_feats, N=2)\n",
    "    d2_mfcc = delta(d_mfcc, N=2)\n",
    "    \n",
    "    dataset_on_sample = np.zeros((mfcc_feats.shape[0], 3 * NFEATURES))\n",
    "    for j in range(mfcc_feats.shape[0]):\n",
    "        dataset_on_sample[j][:NFEATURES] = mfcc_feats[j][:]\n",
    "        dataset_on_sample[j][NFEATURES:2 * NFEATURES] = d_mfcc[j][:]\n",
    "        dataset_on_sample[j][2 * NFEATURES:3 * NFEATURES] = d2_mfcc[j][:]\n",
    "        \n",
    "    mfcc_feat = np.concatenate((features, dataset_on_sample), axis=0)\n",
    "    mfcc_feat = np.delete(mfcc_feat, 0, axis=0)\n",
    "    \n",
    "    return mfcc_feat"
   ]
  },
  {
   "cell_type": "code",
   "execution_count": 56,
   "metadata": {},
   "outputs": [],
   "source": [
    "# Get vector combined labels:\n",
    "def combine_labels(sig: np.ndarray, labels: np.ndarray, frame_length: int, frame_step: int, sample_rate: int) -> np.ndarray:\n",
    "    time_series_labels_speech = np.zeros(sig.shape[0])\n",
    "\n",
    "    begin = 0\n",
    "    end = int(frame_length * sample_rate)\n",
    "    shift = int(frame_step * sample_rate)\n",
    "    for i in range(labels.shape[0]):\n",
    "        if labels[i] == 1:\n",
    "            time_series_labels_speech[begin:end] = 1\n",
    "        begin = begin + shift\n",
    "        end = end + shift \n",
    "\n",
    "    return time_series_labels_speech"
   ]
  },
  {
   "cell_type": "code",
   "execution_count": 57,
   "metadata": {},
   "outputs": [],
   "source": [
    "# Get plot:\n",
    "def plot_result_VAD(sound: np.ndarray, labels: np.ndarray) -> None:\n",
    "    plt.figure(num=None, figsize=(16, 9), dpi=80, facecolor='w', edgecolor='k')\n",
    "    \n",
    "    plt.plot(sound / max(abs(sound)), color='blue')\n",
    "    plt.plot(labels, color='red')"
   ]
  },
  {
   "cell_type": "code",
   "execution_count": 92,
   "metadata": {},
   "outputs": [
    {
     "data": {
      "image/png": "[encoded data removed]",
      "text/plain": [
       "<Figure size 1280x720 with 1 Axes>"
      ]
     },
     "metadata": {},
     "output_type": "display_data"
    }
   ],
   "source": [
    "# Read the wav file:\n",
    "(sample_rate, sig) = wav.read(REAL_SIGNAL)\n",
    "sig = resampy.resample(x=sig, sr_orig=sample_rate, sr_new=SAMPLE_RATE)\n",
    "\n",
    "features = getFeatures(sig=sig)\n",
    "features_scaled = scaler.transform(features)\n",
    "labels_MLPClassifier = model.predict(features_scaled)\n",
    "labels_MLPClassifier_classes = labels_MLPClassifier.argmax(axis=-1)\n",
    "\n",
    "op_MLPClassifier = combine_labels(sig=sig,\n",
    "                                  labels=labels_MLPClassifier_classes,\n",
    "                                  frame_length=FRAME_LENGTH,\n",
    "                                  frame_step=FRAME_STEP,\n",
    "                                  sample_rate=SAMPLE_RATE)\n",
    "plot_result_VAD(sound=sig, labels=op_MLPClassifier)"
   ]
  },
  {
   "cell_type": "markdown",
   "metadata": {},
   "source": [
    "## Getting DNN inner params"
   ]
  },
  {
   "cell_type": "code",
   "execution_count": 63,
   "metadata": {},
   "outputs": [
    {
     "name": "stdout",
     "output_type": "stream",
     "text": [
      "{'name': 'dense_32', 'trainable': True, 'dtype': 'float32', 'units': 128, 'activation': 'relu', 'use_bias': True, 'kernel_initializer': {'class_name': 'GlorotUniform', 'config': {'seed': None}}, 'bias_initializer': {'class_name': 'Zeros', 'config': {}}, 'kernel_regularizer': None, 'bias_regularizer': None, 'activity_regularizer': None, 'kernel_constraint': None, 'bias_constraint': None} [array([[ 0.10126778, -3.3467808 , -3.8670037 , ..., -3.0267868 ,\n",
      "        -1.0941955 , -7.7413306 ],\n",
      "       [ 0.22246547, -0.2782591 , -1.4359779 , ..., -1.5247875 ,\n",
      "         0.10343505, -2.268572  ],\n",
      "       [-1.0940241 ,  0.98869425, -3.729604  , ...,  0.31005993,\n",
      "         0.2763939 , -0.76098084],\n",
      "       ...,\n",
      "       [-0.7526406 , -0.21937701, -0.60358715, ...,  0.33108306,\n",
      "        -0.12470544,  0.77611107],\n",
      "       [-0.24346064,  0.320667  ,  0.6679245 , ..., -1.7080511 ,\n",
      "        -0.24884133, -0.36782447],\n",
      "       [ 0.14536056, -0.29764187, -0.48771843, ..., -0.8503064 ,\n",
      "        -0.12294309,  0.32894722]], dtype=float32), array([-6.3199315 , -4.054374  , -2.074431  , -0.7221595 , -2.6481054 ,\n",
      "       -2.468034  ,  1.2734096 ,  1.31428   ,  0.37472272, -3.341755  ,\n",
      "        5.663074  ,  4.6196923 , -0.5680145 ,  5.965897  ,  0.5093708 ,\n",
      "       -6.070266  , -2.2900133 ,  7.028631  , -0.92641944, -0.9560968 ,\n",
      "        1.7014401 , -4.590911  ,  0.7972686 , -6.0161114 ,  4.054243  ,\n",
      "        1.7798241 , -2.2094874 ,  2.270096  , -1.5320944 , -2.8579137 ,\n",
      "       -4.655969  , -5.3416224 , -5.3176527 , -2.1569135 , -6.400947  ,\n",
      "       -4.029197  , -4.8885183 , -6.969377  ,  1.1846912 ,  1.3323905 ,\n",
      "        2.0949693 ,  1.2817277 , -3.1473718 , -6.0363646 , -1.5453582 ,\n",
      "       -1.8674163 ,  4.2344856 , -3.3028595 ,  0.28020278, -0.5056962 ,\n",
      "       -1.1183429 , -1.2392309 ,  0.05262917, -0.998637  , -2.1466155 ,\n",
      "        8.673182  , -3.5967155 ,  6.9109564 , -3.8493228 ,  0.37963894,\n",
      "        1.852911  ,  1.5752242 , -5.6321554 , -4.732904  ,  0.18935332,\n",
      "       -6.4959865 , -6.0652986 ,  0.69595885, -3.24447   ,  2.5480993 ,\n",
      "        1.7410706 , -4.462466  , -1.9852515 ,  1.0726645 ,  0.9452002 ,\n",
      "       -3.1598246 , -4.6868258 , -7.1169066 , -5.373981  ,  3.4795809 ,\n",
      "       -0.5191392 , -3.3727741 ,  2.510841  , -3.1489797 , -1.290773  ,\n",
      "        0.46795213,  1.5565139 ,  2.1438386 , -0.36085558,  5.285826  ,\n",
      "       -3.3319943 ,  3.0874217 , -2.3592873 , -3.112125  , -1.3531425 ,\n",
      "        0.24201559, -4.6695356 , -6.5852003 , -1.6476456 , -3.9265618 ,\n",
      "       -1.5208703 , -5.2212553 ,  1.3615313 ,  2.0470893 ,  1.7562035 ,\n",
      "        1.6284266 , -4.7617407 , -0.229145  ,  0.87932086,  1.1687101 ,\n",
      "        4.913359  , -6.053639  ,  1.5551264 ,  0.4286366 ,  3.7700193 ,\n",
      "       -4.034825  , -2.5017362 ,  0.01459989, -5.7877097 , -2.5486577 ,\n",
      "       -4.0669937 , -3.9319422 ,  0.07909198, -2.8706808 ,  2.4115396 ,\n",
      "       -6.2667065 , -0.6404669 ,  3.6304402 ], dtype=float32)]\n",
      "{'name': 'dense_33', 'trainable': True, 'dtype': 'float32', 'units': 64, 'activation': 'relu', 'use_bias': True, 'kernel_initializer': {'class_name': 'GlorotUniform', 'config': {'seed': None}}, 'bias_initializer': {'class_name': 'Zeros', 'config': {}}, 'kernel_regularizer': None, 'bias_regularizer': None, 'activity_regularizer': None, 'kernel_constraint': None, 'bias_constraint': None} [array([[ 1.0972855 , -0.04763505,  2.9008565 , ..., -0.41765365,\n",
      "        -1.9284242 , -0.771376  ],\n",
      "       [ 2.6084278 ,  0.79196095,  1.1987008 , ..., -0.9693252 ,\n",
      "         0.45225897, -1.8124151 ],\n",
      "       [ 2.3427773 , -0.07288599, -2.2938993 , ...,  0.5896769 ,\n",
      "         0.36456117, -2.405736  ],\n",
      "       ...,\n",
      "       [-1.372045  ,  1.399002  ,  2.3591266 , ...,  0.68152106,\n",
      "         0.36681083, -2.95048   ],\n",
      "       [ 0.77749854, -1.6927407 ,  1.8483433 , ..., -0.278286  ,\n",
      "        -2.237012  ,  0.1783059 ],\n",
      "       [-4.067866  ,  0.15016705, -1.4648371 , ...,  0.4195446 ,\n",
      "         0.48015395, -0.46542972]], dtype=float32), array([  0.8543055 ,  -7.179874  ,  -6.532303  , -13.548322  ,\n",
      "         1.8280115 ,  12.564651  ,   4.975187  ,  -0.11008368,\n",
      "        -7.2516046 ,  -8.187728  ,  -0.6710204 ,  10.929596  ,\n",
      "        -0.88335115,  -2.7877655 ,  -0.5891036 ,  -2.9715343 ,\n",
      "        -0.13671143,  -3.2385917 ,  -2.7020078 ,  -1.2736154 ,\n",
      "        -2.2281895 ,  -0.9670299 ,   2.3000295 ,  -8.867033  ,\n",
      "        -0.5738765 ,  -5.84407   ,  -7.8866687 ,  -1.1950179 ,\n",
      "        -0.5232873 ,   6.844513  ,  -8.12987   ,  -0.27050942,\n",
      "        -8.967266  ,   3.8703797 ,  -9.008408  ,   2.4902515 ,\n",
      "        -0.22388344,  12.976742  ,  -4.533113  ,  -4.0688987 ,\n",
      "        -8.838551  ,  -0.21534406,  -0.7847626 ,  -3.5154276 ,\n",
      "        -7.9719143 ,   1.5853347 ,  -7.9969654 ,  -1.5366126 ,\n",
      "         0.1676981 ,  -3.2015638 ,   1.4716064 ,  -4.567392  ,\n",
      "         0.44115368,   0.93121016,  11.648863  ,  -0.16388427,\n",
      "        -6.7956424 ,  -7.447353  ,  -4.1011624 ,   5.804168  ,\n",
      "        -1.5523441 ,  -3.856055  ,  -8.283777  ,  -9.265466  ],\n",
      "      dtype=float32)]\n",
      "{'name': 'dense_34', 'trainable': True, 'dtype': 'float32', 'units': 32, 'activation': 'relu', 'use_bias': True, 'kernel_initializer': {'class_name': 'GlorotUniform', 'config': {'seed': None}}, 'bias_initializer': {'class_name': 'Zeros', 'config': {}}, 'kernel_regularizer': None, 'bias_regularizer': None, 'activity_regularizer': None, 'kernel_constraint': None, 'bias_constraint': None} [array([[-0.02618915,  0.44700098, -0.0626803 , ..., -2.1662967 ,\n",
      "        -2.3837748 , -0.66361517],\n",
      "       [-0.27885717,  0.08378915,  0.41719314, ...,  1.1652467 ,\n",
      "         0.64339936, -0.06452537],\n",
      "       [ 0.14067048,  0.17894967,  0.45298985, ...,  1.3319855 ,\n",
      "         0.74926347,  0.17128144],\n",
      "       ...,\n",
      "       [ 0.00441219, -0.20675792,  0.17811364, ..., -0.04751573,\n",
      "         1.2099138 ,  0.7394296 ],\n",
      "       [-0.18181396, -0.7140622 , -0.0365316 , ...,  0.0088683 ,\n",
      "         0.47617924,  0.46246582],\n",
      "       [ 0.08911129,  0.0530537 ,  0.08566321, ...,  0.1197503 ,\n",
      "         0.45199555, -0.10427742]], dtype=float32), array([-0.19738637, -0.08958504, -0.80767214,  0.01364468, -1.7020744 ,\n",
      "       -0.04497603, -0.00914792, -0.28892848, -0.4964691 , -2.0984309 ,\n",
      "       -0.346423  , -0.28154325, -1.7824762 , -1.6249866 , -0.25087157,\n",
      "       -0.1334557 , -1.5633531 , -0.10549742, -2.807619  , -2.7764752 ,\n",
      "       -0.29776862, -1.4451507 , -0.02635345, -1.3926762 , -1.8737332 ,\n",
      "       -5.3087654 , -5.7616954 , -0.91541576, -0.21582238, -0.21759845,\n",
      "       -0.7897761 , -0.10071074], dtype=float32)]\n",
      "{'name': 'dense_35', 'trainable': True, 'dtype': 'float32', 'units': 16, 'activation': 'relu', 'use_bias': True, 'kernel_initializer': {'class_name': 'GlorotUniform', 'config': {'seed': None}}, 'bias_initializer': {'class_name': 'Zeros', 'config': {}}, 'kernel_regularizer': None, 'bias_regularizer': None, 'activity_regularizer': None, 'kernel_constraint': None, 'bias_constraint': None} [array([[ 2.19474524e-01,  1.80935249e-01, -2.92276293e-01,\n",
      "         7.45394945e-01, -7.31264725e-02,  3.09323613e-02,\n",
      "         2.23009419e-02, -1.93855137e-01,  2.10625231e-02,\n",
      "        -2.91328244e-02, -1.01405092e-01,  1.80230752e-01,\n",
      "         1.66252591e-02,  3.51476073e-02, -1.78441957e-01,\n",
      "         1.85645059e-01],\n",
      "       [-5.44060804e-02, -3.36217970e-01, -2.00892434e-01,\n",
      "         1.06490113e-01, -1.31943896e-01,  1.65868953e-01,\n",
      "        -2.97209173e-01, -8.00265595e-02,  6.59452826e-02,\n",
      "         1.30491763e-01,  2.42817625e-01,  2.01781347e-01,\n",
      "        -9.63622928e-02,  1.65031031e-01, -3.61319035e-01,\n",
      "         8.85823891e-02],\n",
      "       [ 1.76858064e-03, -6.14528656e-01, -1.10320830e+00,\n",
      "         1.70914680e-01,  1.90065391e-02,  4.96440023e-01,\n",
      "        -6.19597971e-01,  3.04326434e-02, -3.11935157e-01,\n",
      "        -1.61057472e-01,  6.23988748e-01, -1.59445733e-01,\n",
      "         2.25165814e-01,  2.46836647e-01,  4.35235351e-01,\n",
      "        -3.54358047e-01],\n",
      "       [ 1.45210370e-01, -2.59756625e-01,  5.18922269e-01,\n",
      "        -7.60336444e-02, -2.97377735e-01,  3.13631386e-01,\n",
      "        -3.00063819e-01, -8.76473859e-02,  4.29590270e-02,\n",
      "         6.30357563e-02, -9.95430201e-02,  2.05022991e-01,\n",
      "        -1.36584237e-01,  1.49342373e-01,  1.01159543e-01,\n",
      "         3.85086657e-03],\n",
      "       [ 2.57346611e-02,  5.40020227e-01,  3.49381715e-02,\n",
      "         5.50720394e-01,  8.27930197e-02,  9.67644930e-01,\n",
      "        -7.95904174e-02,  2.38345668e-01,  1.02568671e-01,\n",
      "        -1.77251443e-01,  3.79152030e-01, -1.67321634e+00,\n",
      "         6.06102943e-01,  3.19925457e-01,  3.19057971e-01,\n",
      "         3.05637065e-02],\n",
      "       [-2.57274151e-01,  2.70884573e-01,  3.56387417e-03,\n",
      "        -3.34706426e-01, -7.37483054e-02, -3.07510723e-04,\n",
      "         3.49120677e-01,  2.05179617e-01, -1.26834229e-01,\n",
      "         6.44874945e-02,  3.40150684e-01,  1.83077723e-01,\n",
      "         3.20860595e-01, -1.00904472e-01, -2.91616559e-01,\n",
      "        -2.74784714e-01],\n",
      "       [-1.24435164e-01, -1.92984968e-01,  2.43767947e-02,\n",
      "         2.30193645e-01, -3.05822920e-02,  2.34921873e-01,\n",
      "        -2.81019568e-01, -1.05633475e-01, -6.74104840e-02,\n",
      "         9.45143029e-03, -1.31596044e-01, -4.85163778e-02,\n",
      "        -2.28520349e-01,  9.63923484e-02, -1.24142818e-01,\n",
      "         4.58693728e-02],\n",
      "       [ 2.09017038e-01,  2.51087129e-01, -5.83112277e-02,\n",
      "        -4.78917286e-02, -1.96734294e-02,  1.30440161e-01,\n",
      "        -2.93801278e-01,  8.77741873e-02,  1.49466410e-01,\n",
      "         1.34623230e-01, -1.36134714e-01, -5.24404608e-02,\n",
      "        -4.84568961e-02,  1.28947094e-01, -1.53404385e-01,\n",
      "        -1.40949041e-01],\n",
      "       [-2.35536713e-02, -2.27185324e-01,  4.37767178e-01,\n",
      "        -1.65165707e-01, -4.79261624e-03,  2.80653566e-01,\n",
      "        -4.45424110e-01, -9.69573915e-01, -6.01733923e-01,\n",
      "         2.56665866e-03,  5.47284424e-01,  2.80002266e-01,\n",
      "         3.66667956e-01,  7.12675214e-01, -5.93014024e-02,\n",
      "        -4.64784801e-02],\n",
      "       [-1.89164728e-01, -2.87064821e-01,  1.03630215e-01,\n",
      "        -5.35873771e-01, -1.65162086e-02,  6.49298802e-02,\n",
      "        -2.61379033e-01,  5.27215637e-02, -8.50079656e-02,\n",
      "        -2.73818225e-01, -3.21172029e-01, -1.06376499e-01,\n",
      "        -4.90982026e-01,  1.48908943e-01, -4.18658823e-01,\n",
      "        -2.14377776e-01],\n",
      "       [-1.55506149e-01,  6.30386174e-01,  2.60401517e-01,\n",
      "         2.40325630e-01,  2.08120178e-02, -2.71604896e-01,\n",
      "        -3.15119714e-01,  8.76181722e-02,  2.84347206e-01,\n",
      "         1.46685451e-01, -3.56028616e-01, -6.42969847e-01,\n",
      "         3.56326520e-01, -4.20067877e-01, -1.63245022e-01,\n",
      "        -1.32780641e-01],\n",
      "       [ 1.98419467e-01,  9.49224085e-03,  3.98740292e-01,\n",
      "         1.30854487e-01, -2.57898837e-01,  7.86301717e-02,\n",
      "        -1.22247361e-01,  1.10027261e-01,  2.18825176e-01,\n",
      "        -1.35849863e-02, -5.26584148e-01, -9.56836715e-03,\n",
      "        -1.83902547e-01,  8.57130885e-02,  3.17339711e-02,\n",
      "        -1.06631361e-01],\n",
      "       [-7.26273060e-02, -7.36358285e-01, -3.02036643e-01,\n",
      "        -9.98216197e-02, -3.62404645e-03, -1.27497002e-01,\n",
      "        -6.94084048e-01, -5.90552270e-01, -2.26839572e-01,\n",
      "        -1.16799438e+00, -1.82534683e+00, -2.14372009e-01,\n",
      "         4.84039932e-01, -6.20062053e-01, -8.41800272e-01,\n",
      "        -1.77604005e-01],\n",
      "       [-3.64457846e-01, -8.92765820e-02,  4.85901803e-01,\n",
      "         4.49204408e-02, -4.90260078e-03,  1.83563620e-01,\n",
      "        -1.04691327e-01,  4.42522943e-01, -7.37514300e-03,\n",
      "        -2.29943842e-01, -3.11704315e-02,  3.78816463e-02,\n",
      "         5.65881848e-01, -1.01683274e-01,  5.03478982e-02,\n",
      "         6.78024217e-02],\n",
      "       [-3.33734900e-02,  4.02705163e-01, -1.07654452e-01,\n",
      "         6.52590841e-02, -2.77355582e-01, -1.10721014e-01,\n",
      "        -1.70310438e-02,  1.32206991e-01,  4.34898049e-01,\n",
      "        -1.42886266e-01,  4.54540044e-01, -6.43192232e-02,\n",
      "        -2.32382134e-01,  3.27638477e-01, -1.28214449e-01,\n",
      "         2.62871802e-01],\n",
      "       [-1.68662488e-01,  3.04695815e-01,  2.61485964e-01,\n",
      "         2.85952598e-01,  2.02953473e-01,  2.55029619e-01,\n",
      "         1.41064733e-01,  1.69037268e-01, -3.21745306e-01,\n",
      "        -4.15844955e-02,  1.59931332e-01, -1.02153786e-01,\n",
      "         2.02108592e-01,  2.70577967e-01, -1.10680638e-02,\n",
      "        -6.46288246e-02],\n",
      "       [ 1.56074604e-02,  5.14776111e-01, -2.76149839e-01,\n",
      "         5.05557716e-01,  4.74796817e-02,  6.79320335e-01,\n",
      "        -2.51540422e-01,  2.80382097e-01, -3.75963300e-02,\n",
      "        -1.62108452e-03,  7.71580577e-01, -2.15068865e+00,\n",
      "         8.83406997e-02,  2.64476150e-01,  7.50522494e-01,\n",
      "        -4.54319984e-01],\n",
      "       [ 3.41536328e-02, -1.64081827e-01, -7.76343569e-02,\n",
      "         7.46222809e-02, -5.97220100e-02, -1.39255688e-01,\n",
      "        -2.78285652e-01, -2.17785493e-01, -1.36776805e-01,\n",
      "         9.95551273e-02,  9.87132937e-02, -4.29930687e-01,\n",
      "         3.92689370e-02, -4.66331579e-02, -2.02438429e-01,\n",
      "         6.83233468e-03],\n",
      "       [-1.52441531e-01,  3.92231382e-02,  3.85612547e-01,\n",
      "         1.32048965e+00,  5.68206795e-02,  4.55591455e-03,\n",
      "        -8.52957845e-01,  1.52845442e-01,  5.50556779e-02,\n",
      "        -2.10643545e-01,  1.10180438e-01, -8.47443789e-02,\n",
      "         3.47541004e-01,  2.92657971e-01,  1.63870260e-01,\n",
      "        -1.16750702e-01],\n",
      "       [-1.52593836e-01,  2.57134408e-01,  6.59218907e-01,\n",
      "         4.04774010e-01,  5.26408814e-02,  1.60738023e-03,\n",
      "        -4.88329351e-01, -1.27392977e-01,  3.79436582e-01,\n",
      "        -2.25011408e-01, -6.73495829e-01, -2.17303596e-02,\n",
      "         9.12587583e-01,  2.76915580e-01,  2.30437398e-01,\n",
      "        -2.34984592e-01],\n",
      "       [ 3.67911607e-02,  2.59567201e-01,  1.71523318e-02,\n",
      "         1.21735126e-01,  1.93140551e-03,  3.12917292e-01,\n",
      "        -2.51761585e-01, -8.22623312e-01, -2.33226731e-01,\n",
      "         3.94011177e-02,  7.13944435e-01,  1.84711516e-01,\n",
      "         4.82639894e-02,  2.46275574e-01,  8.61868143e-01,\n",
      "         1.69059500e-01],\n",
      "       [ 1.98873878e-01,  6.43301785e-01, -6.77904263e-02,\n",
      "        -1.55504271e-01, -1.42131723e-03, -2.32539028e-01,\n",
      "        -1.03468871e+00, -1.91164881e-01, -2.47328758e-01,\n",
      "        -6.45838454e-02,  1.14712201e-01, -2.34191418e-01,\n",
      "         2.61882961e-01, -1.43145889e-01,  7.50421703e-01,\n",
      "        -3.08453768e-01],\n",
      "       [ 1.29526062e-02, -3.21006000e-01, -8.34376633e-01,\n",
      "         1.52251488e-02, -6.34934660e-03, -1.15613192e-02,\n",
      "        -4.12912399e-01, -5.04836082e-01,  3.24700534e-01,\n",
      "         1.43030792e-01, -2.03534842e-01,  4.03871626e-01,\n",
      "         1.89499423e-01, -2.35168874e-01, -3.60507101e-01,\n",
      "        -4.68909815e-02],\n",
      "       [ 3.74195389e-02,  2.78061032e-01, -3.48199844e-01,\n",
      "         2.86695093e-01, -4.67470996e-02, -1.92218184e-01,\n",
      "        -3.83868217e-01,  7.50472397e-02, -5.28168321e-01,\n",
      "         1.57515407e-01,  4.69140202e-01,  2.06875831e-01,\n",
      "        -9.51141417e-02, -5.71168303e-01,  3.06924969e-01,\n",
      "         1.13605365e-01],\n",
      "       [-2.80314595e-01,  1.03530489e-01, -2.64997706e-02,\n",
      "         7.67534226e-02, -9.06923524e-05, -2.54396021e-01,\n",
      "        -7.31916949e-02, -1.57807797e-01, -1.65728673e-01,\n",
      "        -2.63974875e-01, -1.50004134e-01,  7.14966655e-02,\n",
      "        -7.47069493e-02, -1.84947643e-02, -2.76887953e-01,\n",
      "        -1.34049788e-01],\n",
      "       [ 1.14374608e-02,  4.03143555e-01, -2.81138718e-01,\n",
      "         5.71916521e-01,  5.94535954e-02,  7.20193267e-01,\n",
      "        -1.07979894e-01,  1.56149790e-01,  1.11575149e-01,\n",
      "        -1.83766887e-01,  3.05649608e-01, -2.59160429e-01,\n",
      "         1.06777799e+00,  6.28914461e-02,  3.29832315e-01,\n",
      "         1.28624976e-01],\n",
      "       [-1.46889359e-01, -2.83773273e-01, -1.51147217e-01,\n",
      "        -8.10498476e-01, -9.55621060e-03, -1.33134651e+00,\n",
      "        -4.30966355e-02, -2.24665418e-01, -3.51877183e-01,\n",
      "        -8.52832645e-02, -3.49083275e-01, -2.20626503e-01,\n",
      "        -5.06801665e-01, -4.26351726e-01, -1.93514571e-01,\n",
      "        -2.26115033e-01],\n",
      "       [-1.24603650e-02,  8.03279970e-03, -6.98112190e-01,\n",
      "        -3.40764642e-01,  1.32107660e-02,  1.74728945e-01,\n",
      "        -3.10148418e-01, -4.37989205e-01, -1.16868961e+00,\n",
      "        -9.71550643e-02,  5.36379814e-01,  3.54695297e-03,\n",
      "        -4.91897315e-01,  2.15234607e-01, -1.13887572e+00,\n",
      "         2.02948198e-01],\n",
      "       [ 2.19765455e-01, -1.95908353e-01, -1.53060839e-01,\n",
      "        -2.50992984e-01,  2.00454798e-02, -1.14274971e-01,\n",
      "        -3.11099023e-01,  1.13663889e-01, -2.89885432e-01,\n",
      "         3.13343555e-01, -2.09484488e-01,  1.80202663e-01,\n",
      "        -3.10292125e-01, -2.35811144e-01,  2.96206623e-01,\n",
      "        -1.39925286e-01],\n",
      "       [ 4.25149966e-03, -2.58802533e-01,  5.05988717e-01,\n",
      "         4.44911957e-01,  2.20402628e-02,  4.88657445e-01,\n",
      "         3.68508935e-01, -2.17092252e+00, -9.17194318e-03,\n",
      "         2.30029613e-01,  6.83744907e-01, -7.34548688e-01,\n",
      "         3.03690106e-01, -3.61213148e-01,  1.27807355e+00,\n",
      "        -5.76861560e-01],\n",
      "       [ 1.22110069e-01,  4.16768253e-01, -1.64096653e-01,\n",
      "         7.41460085e-01, -4.81625050e-02,  4.34850186e-01,\n",
      "        -1.46051276e+00,  2.11941928e-01, -6.07931972e-01,\n",
      "         4.10559207e-01,  3.82236570e-01, -1.26203811e+00,\n",
      "         6.29438043e-01,  6.52941614e-02,  9.29019511e-01,\n",
      "        -1.30814493e-01],\n",
      "       [ 9.32580829e-02, -7.72450686e-01,  1.92517683e-01,\n",
      "         3.60762239e-01,  3.93333808e-02,  2.70313114e-01,\n",
      "        -7.42803514e-02,  2.61034388e-02, -4.75147441e-02,\n",
      "         7.57484287e-02, -1.24077344e+00,  2.41794288e-01,\n",
      "         5.76068938e-01, -7.61759505e-02,  4.03202057e-01,\n",
      "         3.62790525e-01]], dtype=float32), array([ 0.8860377 ,  0.9680053 ,  4.5526495 ,  1.6396751 , 19.262205  ,\n",
      "        1.4462321 ,  7.077804  ,  0.49136543,  0.3648467 ,  7.5519595 ,\n",
      "       -0.5579574 ,  1.1310892 ,  2.1681664 , -0.06732867,  3.072396  ,\n",
      "        2.8489785 ], dtype=float32)]\n",
      "{'name': 'dense_36', 'trainable': True, 'dtype': 'float32', 'units': 2, 'activation': 'linear', 'use_bias': True, 'kernel_initializer': {'class_name': 'GlorotUniform', 'config': {'seed': None}}, 'bias_initializer': {'class_name': 'Zeros', 'config': {}}, 'kernel_regularizer': None, 'bias_regularizer': None, 'activity_regularizer': None, 'kernel_constraint': None, 'bias_constraint': None} [array([[ 1.5792626e-01, -1.8480743e-01],\n",
      "       [ 6.7408544e-01, -6.2880182e-01],\n",
      "       [ 3.6670387e+00, -1.2657781e+00],\n",
      "       [ 1.8864864e-01, -5.2362984e-01],\n",
      "       [ 4.4111386e-02, -4.4504032e-02],\n",
      "       [ 6.2071908e-01, -1.8912175e-01],\n",
      "       [ 1.5938278e+01,  6.4993557e-03],\n",
      "       [ 3.8802616e-02, -6.9054347e-01],\n",
      "       [ 2.9185018e-01, -9.3606517e-02],\n",
      "       [ 1.7032694e-02, -1.3015919e+01],\n",
      "       [ 1.9866955e-01, -2.2048035e-01],\n",
      "       [ 1.0932607e-01, -2.9629810e+00],\n",
      "       [ 8.2161653e-01, -2.0928173e+00],\n",
      "       [ 2.0942476e-01, -7.3008165e-02],\n",
      "       [ 2.8378823e+00, -1.1829885e+00],\n",
      "       [ 4.5790683e-02, -5.7047930e-02]], dtype=float32), array([0.07463722, 0.92606324], dtype=float32)]\n"
     ]
    }
   ],
   "source": [
    "for layer in model.layers: print(layer.get_config(), layer.get_weights())"
   ]
  },
  {
   "cell_type": "code",
   "execution_count": 64,
   "metadata": {},
   "outputs": [],
   "source": [
    "first_layer_weights = model.layers[0].get_weights()[0]\n",
    "first_layer_biases  = model.layers[0].get_weights()[1]\n",
    "second_layer_weights = model.layers[1].get_weights()[0]\n",
    "second_layer_biases  = model.layers[1].get_weights()[1]"
   ]
  },
  {
   "cell_type": "markdown",
   "metadata": {},
   "source": [
    "# Linear SVM"
   ]
  },
  {
   "cell_type": "code",
   "execution_count": 6,
   "metadata": {},
   "outputs": [],
   "source": [
    "clf_LSVC = make_pipeline(StandardScaler(), LinearSVC(random_state=0, max_iter=50000, tol=1e-5)).fit(X_train, y_train)"
   ]
  },
  {
   "cell_type": "code",
   "execution_count": 7,
   "metadata": {},
   "outputs": [],
   "source": [
    "labels_LSVC = clf_LSVC.predict(mfcc_feat)"
   ]
  },
  {
   "cell_type": "code",
   "execution_count": 8,
   "metadata": {},
   "outputs": [
    {
     "data": {
      "text/plain": [
       "<sklearn.metrics._plot.roc_curve.RocCurveDisplay at 0x19e2c5f8160>"
      ]
     },
     "execution_count": 8,
     "metadata": {},
     "output_type": "execute_result"
    },
    {
     "data": {
      "image/png": "[encoded data removed]",
      "text/plain": [
       "<Figure size 432x288 with 1 Axes>"
      ]
     },
     "metadata": {
      "needs_background": "light"
     },
     "output_type": "display_data"
    }
   ],
   "source": [
    "plot_roc_curve(clf_LSVC, X_test, y_test)"
   ]
  },
  {
   "cell_type": "code",
   "execution_count": 9,
   "metadata": {},
   "outputs": [
    {
     "data": {
      "image/png": "[encoded data removed]",
      "text/plain": [
       "<Figure size 1280x720 with 1 Axes>"
      ]
     },
     "metadata": {},
     "output_type": "display_data"
    }
   ],
   "source": [
    "op_LSVC = combine_labels(mfcc_feat, labels_LSVC, sample_rate)\n",
    "plot_result_VAD(sound, op_LSVC[2], op_LSVC[0], op_LSVC[1], op_LSVC[3])"
   ]
  },
  {
   "cell_type": "code",
   "execution_count": 10,
   "metadata": {},
   "outputs": [
    {
     "data": {
      "image/png": "[encoded data removed]",
      "text/plain": [
       "<Figure size 1280x720 with 1 Axes>"
      ]
     },
     "metadata": {},
     "output_type": "display_data"
    }
   ],
   "source": [
    "labels_LSVC_new = medfilt(labels_LSVC, 51)\n",
    "op_LSVC_new = combine_labels(mfcc_feat, labels_LSVC_new, sample_rate)\n",
    "plot_result_VAD(sound, op_LSVC_new[2], op_LSVC_new[0], op_LSVC_new[1], op_LSVC_new[3])"
   ]
  },
  {
   "cell_type": "code",
   "execution_count": 11,
   "metadata": {},
   "outputs": [
    {
     "data": {
      "text/plain": [
       "array([[ 0.42312113,  0.55581767,  0.15499356,  0.32318509, -0.28367759,\n",
       "        -0.12808963,  0.00715227,  0.02969692, -0.07958695, -0.02682161,\n",
       "        -0.23189075, -0.19653115, -0.09467366, -0.0427234 , -0.0017646 ,\n",
       "        -0.01982936, -0.00530833, -0.01035294,  0.00941022, -0.028494  ,\n",
       "         0.00276689,  0.00891517,  0.01957693, -0.01280737,  0.02665126,\n",
       "        -0.00388747,  0.10956189,  0.11640333,  0.04731162,  0.11674034,\n",
       "        -0.11838895, -0.06489317,  0.01071915,  0.01949375, -0.04095057,\n",
       "        -0.00704833, -0.11448222, -0.10295135, -0.05208734]])"
      ]
     },
     "execution_count": 11,
     "metadata": {},
     "output_type": "execute_result"
    }
   ],
   "source": [
    "clf_LSVC[1].coef_"
   ]
  },
  {
   "cell_type": "code",
   "execution_count": 12,
   "metadata": {},
   "outputs": [
    {
     "data": {
      "text/plain": [
       "array([-1.67498369])"
      ]
     },
     "execution_count": 12,
     "metadata": {},
     "output_type": "execute_result"
    }
   ],
   "source": [
    "clf_LSVC[1].intercept_"
   ]
  },
  {
   "cell_type": "code",
   "execution_count": 14,
   "metadata": {},
   "outputs": [
    {
     "data": {
      "text/plain": [
       "array([1.])"
      ]
     },
     "execution_count": 14,
     "metadata": {},
     "output_type": "execute_result"
    }
   ],
   "source": [
    "clf_LSVC.predict(mfcc_feat[700].reshape(1, -1))"
   ]
  },
  {
   "cell_type": "code",
   "execution_count": 84,
   "metadata": {},
   "outputs": [
    {
     "data": {
      "text/plain": [
       "array([[ 19.74972839,   5.92876154,   7.08991808,   6.08284463,\n",
       "          4.60931   ,   5.27525969,   5.27824685,   5.88213696,\n",
       "          6.53521535,   6.69079198,   7.48089929,   7.7197619 ,\n",
       "          8.10136641, 244.67947656,  44.94509246,  42.53553536,\n",
       "         42.0648654 ,  35.84037605,  33.1262905 ,  32.99054972,\n",
       "         33.84744274,  33.23803803,  34.06760818,  35.6060083 ,\n",
       "         36.68569345,  38.85797873, 695.20042019, 130.4391887 ,\n",
       "        117.3050336 , 116.12064383,  98.36434754,  89.233173  ,\n",
       "         86.95303049,  88.20511567,  86.30797431,  87.79651725,\n",
       "         91.55174248,  93.82600453,  99.1190978 ]])"
      ]
     },
     "execution_count": 84,
     "metadata": {},
     "output_type": "execute_result"
    }
   ],
   "source": [
    "#test_input = np.linspace(39, 77, 39)\n",
    "#test_input = np.linspace(0, 38, 39)\n",
    "test_input = np.linspace(78, 116, 39)\n",
    "#(test_input - u) / s\n",
    "scaled_test_input = clf_LSVC[0].transform(test_input.reshape(1, -1))\n",
    "scaled_test_input"
   ]
  },
  {
   "cell_type": "code",
   "execution_count": 85,
   "metadata": {},
   "outputs": [
    {
     "data": {
      "text/plain": [
       "array([ 78.,  79.,  80.,  81.,  82.,  83.,  84.,  85.,  86.,  87.,  88.,\n",
       "        89.,  90.,  91.,  92.,  93.,  94.,  95.,  96.,  97.,  98.,  99.,\n",
       "       100., 101., 102., 103., 104., 105., 106., 107., 108., 109., 110.,\n",
       "       111., 112., 113., 114., 115., 116.])"
      ]
     },
     "execution_count": 85,
     "metadata": {},
     "output_type": "execute_result"
    }
   ],
   "source": [
    "test_input"
   ]
  },
  {
   "cell_type": "code",
   "execution_count": 86,
   "metadata": {},
   "outputs": [
    {
     "data": {
      "text/plain": [
       "array([[ 3.22767762e-01,  4.06085702e-01,  3.62539964e-01,\n",
       "         2.13799276e-01, -3.95264931e-01, -2.92230974e-01,\n",
       "        -3.51347670e-01, -1.09742292e-01, -4.07794836e-02,\n",
       "         1.11297836e-01,  2.24575034e-02, -9.96415060e-03,\n",
       "        -2.10568745e-01,  2.65349056e-03, -6.31265294e-03,\n",
       "        -8.22606863e-03, -3.53202845e-03,  4.28434115e-03,\n",
       "         4.12582744e-04,  3.36996175e-03,  1.84148614e-03,\n",
       "        -6.00567607e-03, -1.18367130e-04,  6.13558070e-03,\n",
       "        -5.57281203e-03,  4.04300012e-03,  1.06021551e-01,\n",
       "         1.65016193e-01,  1.36318226e-01,  9.82143796e-02,\n",
       "        -1.38099307e-01, -1.28877125e-01, -1.40444681e-01,\n",
       "        -4.66569949e-02, -2.69032745e-02,  4.83070666e-02,\n",
       "         6.39746827e-03, -3.65467595e-03, -1.10618137e-01]])"
      ]
     },
     "execution_count": 86,
     "metadata": {},
     "output_type": "execute_result"
    }
   ],
   "source": [
    "clf_LSVC[1].coef_"
   ]
  },
  {
   "cell_type": "code",
   "execution_count": 87,
   "metadata": {},
   "outputs": [
    {
     "data": {
      "text/plain": [
       "array([1.])"
      ]
     },
     "execution_count": 87,
     "metadata": {},
     "output_type": "execute_result"
    }
   ],
   "source": [
    "clf_LSVC.predict(scaled_test_input)"
   ]
  },
  {
   "cell_type": "code",
   "execution_count": 88,
   "metadata": {},
   "outputs": [
    {
     "name": "stdout",
     "output_type": "stream",
     "text": [
      "6.374575630280597\n",
      "8.78216092078479\n",
      "11.352539565797748\n",
      "12.653047341852835\n",
      "10.831148745833705\n",
      "9.289554465841958\n",
      "7.435054736889684\n",
      "6.789535544389963\n",
      "6.523032837119927\n",
      "7.267703503244188\n",
      "7.435705824779508\n",
      "7.358784954615152\n",
      "5.652890398928283\n",
      "6.3021450809368\n",
      "6.018422310843037\n",
      "5.6685220778063385\n",
      "5.519947776292215\n",
      "5.67350017440909\n",
      "5.687167510234546\n",
      "5.798344401055405\n",
      "5.860673997725113\n",
      "5.661057108222766\n",
      "5.6570246232155785\n",
      "5.875488160416924\n",
      "5.671045686805524\n",
      "5.828148499416175\n",
      "79.53437544102628\n",
      "101.05895379170917\n",
      "117.04976783908351\n",
      "128.45448482641055\n",
      "114.87043659157455\n",
      "103.37032177344909\n",
      "91.15823114872012\n",
      "87.04284551518127\n",
      "84.7208783928217\n",
      "88.9620705983248\n",
      "89.54776996601828\n",
      "89.20486632363539\n",
      "78.24049638304771\n"
     ]
    }
   ],
   "source": [
    "summ = 0\n",
    "for i in range(len(scaled_test_input[0])):\n",
    "    summ = summ + scaled_test_input[0][i] * clf_LSVC[1].coef_[0][i]\n",
    "    print(summ)"
   ]
  },
  {
   "cell_type": "code",
   "execution_count": 89,
   "metadata": {},
   "outputs": [],
   "source": [
    "u = clf_LSVC[0].mean_\n",
    "s = clf_LSVC[0].scale_\n",
    "new_mfcc_feat = (mfcc_feat[700] - u) / s"
   ]
  },
  {
   "cell_type": "code",
   "execution_count": 90,
   "metadata": {},
   "outputs": [
    {
     "data": {
      "text/plain": [
       "array([[77.87291885]])"
      ]
     },
     "execution_count": 90,
     "metadata": {},
     "output_type": "execute_result"
    }
   ],
   "source": [
    "np.dot(clf_LSVC[1].coef_, scaled_test_input.T) + clf_LSVC[1].intercept_"
   ]
  },
  {
   "cell_type": "code",
   "execution_count": 91,
   "metadata": {},
   "outputs": [
    {
     "data": {
      "text/plain": [
       "array([-0.36757753])"
      ]
     },
     "execution_count": 91,
     "metadata": {},
     "output_type": "execute_result"
    }
   ],
   "source": [
    "clf_LSVC[1].intercept_"
   ]
  },
  {
   "cell_type": "code",
   "execution_count": 92,
   "metadata": {},
   "outputs": [
    {
     "data": {
      "text/plain": [
       "array([[78.24049638]])"
      ]
     },
     "execution_count": 92,
     "metadata": {},
     "output_type": "execute_result"
    }
   ],
   "source": [
    "np.dot(clf_LSVC[1].coef_, scaled_test_input.T)"
   ]
  },
  {
   "cell_type": "code",
   "execution_count": 27,
   "metadata": {},
   "outputs": [
    {
     "data": {
      "text/plain": [
       "array([ 3.22767762e-01,  4.06085702e-01,  3.62539964e-01,  2.13799276e-01,\n",
       "       -3.95264931e-01, -2.92230974e-01, -3.51347670e-01, -1.09742292e-01,\n",
       "       -4.07794836e-02,  1.11297836e-01,  2.24575034e-02, -9.96415060e-03,\n",
       "       -2.10568745e-01,  2.65349056e-03, -6.31265294e-03, -8.22606863e-03,\n",
       "       -3.53202845e-03,  4.28434115e-03,  4.12582744e-04,  3.36996175e-03,\n",
       "        1.84148614e-03, -6.00567607e-03, -1.18367130e-04,  6.13558070e-03,\n",
       "       -5.57281203e-03,  4.04300012e-03,  1.06021551e-01,  1.65016193e-01,\n",
       "        1.36318226e-01,  9.82143796e-02, -1.38099307e-01, -1.28877125e-01,\n",
       "       -1.40444681e-01, -4.66569949e-02, -2.69032745e-02,  4.83070666e-02,\n",
       "        6.39746827e-03, -3.65467595e-03, -1.10618137e-01])"
      ]
     },
     "execution_count": 27,
     "metadata": {},
     "output_type": "execute_result"
    }
   ],
   "source": [
    "clf_LSVC[1].coef_[0]"
   ]
  },
  {
   "cell_type": "code",
   "execution_count": 28,
   "metadata": {},
   "outputs": [],
   "source": [
    "def float_to_hex(f):\n",
    "    return hex(struct.unpack('<I', struct.pack('<f', f))[0])\n",
    "\n",
    "list_hex = []\n",
    "for i in range(len(clf_LSVC[1].coef_[0])):\n",
    "    list_hex.append(float_to_hex(clf_LSVC[1].coef_[0][i]))"
   ]
  },
  {
   "cell_type": "code",
   "execution_count": 29,
   "metadata": {},
   "outputs": [],
   "source": [
    "list_strings = []\n",
    "for i in range(39):\n",
    "    list_strings.append(\"assign weights_SVM[\" + str(i) + \"] = 32'h\" + str(list_hex[i][2:]) + \";\")"
   ]
  },
  {
   "cell_type": "code",
   "execution_count": 30,
   "metadata": {},
   "outputs": [
    {
     "data": {
      "text/plain": [
       "[\"assign weights_SVM[0] = 32'h3ea541d1;\",\n",
       " \"assign weights_SVM[1] = 32'h3ecfea77;\",\n",
       " \"assign weights_SVM[2] = 32'h3eb99ed7;\",\n",
       " \"assign weights_SVM[3] = 32'h3e5aee33;\",\n",
       " \"assign weights_SVM[4] = 32'hbeca602a;\",\n",
       " \"assign weights_SVM[5] = 32'hbe959f4c;\",\n",
       " \"assign weights_SVM[6] = 32'hbeb3e3d7;\",\n",
       " \"assign weights_SVM[7] = 32'hbde0c091;\",\n",
       " \"assign weights_SVM[8] = 32'hbd270863;\",\n",
       " \"assign weights_SVM[9] = 32'h3de3f01f;\",\n",
       " \"assign weights_SVM[10] = 32'h3cb7f8cc;\",\n",
       " \"assign weights_SVM[11] = 32'hbc2340ad;\",\n",
       " \"assign weights_SVM[12] = 32'hbe579f55;\",\n",
       " \"assign weights_SVM[13] = 32'h3b2de62f;\",\n",
       " \"assign weights_SVM[14] = 32'hbbceda5f;\",\n",
       " \"assign weights_SVM[15] = 32'hbc06c6a2;\",\n",
       " \"assign weights_SVM[16] = 32'hbb67799b;\",\n",
       " \"assign weights_SVM[17] = 32'h3b8c63a9;\",\n",
       " \"assign weights_SVM[18] = 32'h39d84feb;\",\n",
       " \"assign weights_SVM[19] = 32'h3b5cda94;\",\n",
       " \"assign weights_SVM[20] = 32'h3af15e05;\",\n",
       " \"assign weights_SVM[21] = 32'hbbc4cb43;\",\n",
       " \"assign weights_SVM[22] = 32'hb8f83bde;\",\n",
       " \"assign weights_SVM[23] = 32'h3bc90cfb;\",\n",
       " \"assign weights_SVM[24] = 32'hbbb69c23;\",\n",
       " \"assign weights_SVM[25] = 32'h3b847b25;\",\n",
       " \"assign weights_SVM[26] = 32'h3dd921d4;\",\n",
       " \"assign weights_SVM[27] = 32'h3e28fa01;\",\n",
       " \"assign weights_SVM[28] = 32'h3e0b9701;\",\n",
       " \"assign weights_SVM[29] = 32'h3dc9249f;\",\n",
       " \"assign weights_SVM[30] = 32'hbe0d69e8;\",\n",
       " \"assign weights_SVM[31] = 32'hbe03f85d;\",\n",
       " \"assign weights_SVM[32] = 32'hbe0fd0bb;\",\n",
       " \"assign weights_SVM[33] = 32'hbd3f1b68;\",\n",
       " \"assign weights_SVM[34] = 32'hbcdc6442;\",\n",
       " \"assign weights_SVM[35] = 32'h3d45dda1;\",\n",
       " \"assign weights_SVM[36] = 32'h3bd1a1db;\",\n",
       " \"assign weights_SVM[37] = 32'hbb6f834a;\",\n",
       " \"assign weights_SVM[38] = 32'hbde28bc3;\"]"
      ]
     },
     "execution_count": 30,
     "metadata": {},
     "output_type": "execute_result"
    }
   ],
   "source": [
    "list_strings"
   ]
  },
  {
   "cell_type": "markdown",
   "metadata": {},
   "source": [
    "# NuSVM"
   ]
  },
  {
   "cell_type": "code",
   "execution_count": null,
   "metadata": {},
   "outputs": [],
   "source": [
    "clf_NuSVC = make_pipeline(StandardScaler(), NuSVC(nu=0.1, gamma='auto', random_state=42)).fit(X_train[:30000], y_train[:30000])"
   ]
  },
  {
   "cell_type": "code",
   "execution_count": null,
   "metadata": {},
   "outputs": [],
   "source": [
    "labels_NuSVC = clf_NuSVC.predict(mfcc_feat)"
   ]
  },
  {
   "cell_type": "code",
   "execution_count": null,
   "metadata": {},
   "outputs": [],
   "source": [
    "plot_roc_curve(clf_NuSVC, X_test, y_test)"
   ]
  },
  {
   "cell_type": "code",
   "execution_count": null,
   "metadata": {},
   "outputs": [],
   "source": [
    "op_NuSVC = combine_labels(mfcc_feat, labels_NuSVC, sample_rate)\n",
    "plot_result_VAD(sound, op_NuSVC[2], op_NuSVC[0], op_NuSVC[1], op_NuSVC[3])"
   ]
  },
  {
   "cell_type": "code",
   "execution_count": null,
   "metadata": {},
   "outputs": [],
   "source": [
    "labels_NuSVC_new = medfilt(labels_NuSVC, 51)\n",
    "op_NuSVC_new = combine_labels(mfcc_feat, labels_NuSVC_new, sample_rate)\n",
    "plot_result_VAD(sound, op_NuSVC_new[2], op_NuSVC_new[0], op_NuSVC_new[1], op_NuSVC_new[3])"
   ]
  },
  {
   "cell_type": "markdown",
   "metadata": {},
   "source": [
    "# Neural Net"
   ]
  },
  {
   "cell_type": "code",
   "execution_count": 11,
   "metadata": {},
   "outputs": [],
   "source": [
    "clf_MLP = MLPClassifier(hidden_layer_sizes=(50,), activation='relu', alpha=0.01, random_state=42, max_iter=1000).fit(X_train, y_train)"
   ]
  },
  {
   "cell_type": "code",
   "execution_count": 12,
   "metadata": {},
   "outputs": [],
   "source": [
    "labels_MLP = clf_MLP.predict(mfcc_feat)"
   ]
  },
  {
   "cell_type": "code",
   "execution_count": 13,
   "metadata": {},
   "outputs": [
    {
     "data": {
      "text/plain": [
       "<sklearn.metrics._plot.roc_curve.RocCurveDisplay at 0x18152d45490>"
      ]
     },
     "execution_count": 13,
     "metadata": {},
     "output_type": "execute_result"
    },
    {
     "data": {
      "image/png": "[encoded data removed]",
      "text/plain": [
       "<Figure size 432x288 with 1 Axes>"
      ]
     },
     "metadata": {
      "needs_background": "light"
     },
     "output_type": "display_data"
    }
   ],
   "source": [
    "plot_roc_curve(clf_MLP, X_test, y_test)"
   ]
  },
  {
   "cell_type": "code",
   "execution_count": 14,
   "metadata": {},
   "outputs": [
    {
     "data": {
      "image/png": "[encoded data removed]",
      "text/plain": [
       "<Figure size 1280x720 with 1 Axes>"
      ]
     },
     "metadata": {},
     "output_type": "display_data"
    }
   ],
   "source": [
    "op_MLP = combine_labels(mfcc_feat, labels_MLP, sample_rate)\n",
    "plot_result_VAD(sound, op_MLP[2], op_MLP[0], op_MLP[1], op_MLP[3])"
   ]
  },
  {
   "cell_type": "code",
   "execution_count": 15,
   "metadata": {},
   "outputs": [
    {
     "data": {
      "image/png": "[encoded data removed]",
      "text/plain": [
       "<Figure size 1280x720 with 1 Axes>"
      ]
     },
     "metadata": {},
     "output_type": "display_data"
    }
   ],
   "source": [
    "labels_MLP_new = medfilt(labels_MLP, 51)\n",
    "op_MLP_new = combine_labels(mfcc_feat, labels_MLP_new, sample_rate)\n",
    "plot_result_VAD(sound, op_MLP_new[2], op_MLP_new[0], op_MLP_new[1], op_MLP_new[3])"
   ]
  },
  {
   "cell_type": "markdown",
   "metadata": {},
   "source": [
    "# labels"
   ]
  },
  {
   "cell_type": "code",
   "execution_count": 33,
   "metadata": {},
   "outputs": [
    {
     "name": "stdout",
     "output_type": "stream",
     "text": [
      "697758 341582\n"
     ]
    },
    {
     "data": {
      "text/plain": [
       "(array([0., 0., 0., ..., 0., 0., 0.]),\n",
       " array([697757.5       , 697757.50000293, 697757.50000586, ...,\n",
       "        697758.49999414, 697758.49999707, 697758.5       ]),\n",
       " <a list of 341582 Patch objects>)"
      ]
     },
     "execution_count": 33,
     "metadata": {},
     "output_type": "execute_result"
    },
    {
     "data": {
      "image/png": "[encoded data removed]",
      "text/plain": [
       "<Figure size 432x288 with 1 Axes>"
      ]
     },
     "metadata": {
      "needs_background": "light"
     },
     "output_type": "display_data"
    }
   ],
   "source": [
    "count_ones = 0\n",
    "for i in range(len(labels)):\n",
    "    if labels[i] == 1:\n",
    "        count_ones = count_ones + 1\n",
    "        \n",
    "count_zeros = len(labels) - count_ones\n",
    "\n",
    "print(count_zeros, count_ones)"
   ]
  },
  {
   "cell_type": "code",
   "execution_count": 39,
   "metadata": {},
   "outputs": [],
   "source": [
    "# 1-d:\n",
    "def write_1d(input_vec, filename):\n",
    "    txt_list = []\n",
    "    for i in range(len(input_vec)):\n",
    "        if i == 0:\n",
    "            txt_list.append('{ ')\n",
    "        txt_list.append(str(input_vec[i]))\n",
    "        if i == len(input_vec) - 1:\n",
    "            txt_list.append(' },')\n",
    "        else:\n",
    "            txt_list.append(', ')\n",
    "        \n",
    "    f = open(filename, 'w')\n",
    "    f.writelines(txt_list)\n",
    "    f.close()"
   ]
  },
  {
   "cell_type": "code",
   "execution_count": 40,
   "metadata": {},
   "outputs": [],
   "source": [
    "# 2-d:\n",
    "def write_2d(input_vec, filename):\n",
    "    txt_list = []\n",
    "    for i in range(input_vec.shape[0]):\n",
    "        for j in range(input_vec.shape[1]):\n",
    "            if j == 0:\n",
    "                txt_list.append('{ ')\n",
    "            txt_list.append(str(input_vec[i][j]))\n",
    "            if j == input_vec.shape[1] - 1:\n",
    "                txt_list.append(' },')\n",
    "            else:\n",
    "                txt_list.append(', ')\n",
    "                \n",
    "    f = open(filename, 'w')\n",
    "    f.writelines(txt_list)\n",
    "    f.close()"
   ]
  },
  {
   "cell_type": "code",
   "execution_count": 41,
   "metadata": {},
   "outputs": [],
   "source": [
    "write_1d(mfcc_feat[0], 'test_input.txt')\n",
    "write_1d(np.linspace(0, 38, 39), 'test_input_counter.txt')\n",
    "write_1d(clf_MLP.coefs_[1], 'coefs_second.txt')\n",
    "write_1d(clf_MLP.intercepts_[0], 'intercepts_first.txt')"
   ]
  },
  {
   "cell_type": "code",
   "execution_count": 42,
   "metadata": {},
   "outputs": [],
   "source": [
    "write_2d(clf_MLP.coefs_[0], 'coefs_first.txt')"
   ]
  },
  {
   "cell_type": "code",
   "execution_count": 43,
   "metadata": {},
   "outputs": [
    {
     "data": {
      "text/plain": [
       "array([-1.88764714])"
      ]
     },
     "execution_count": 43,
     "metadata": {},
     "output_type": "execute_result"
    }
   ],
   "source": [
    "clf_MLP.intercepts_[1]"
   ]
  },
  {
   "cell_type": "code",
   "execution_count": 44,
   "metadata": {},
   "outputs": [],
   "source": [
    "a = np.array([10, 11, 12, 6, 3, 2, 6, 8, 1, 4, 6, 7, 8, 3, 1, 5, 78, 52, 5, 6, 7, 52])\n",
    "b = medfilt(a, 3)"
   ]
  },
  {
   "cell_type": "code",
   "execution_count": 45,
   "metadata": {},
   "outputs": [
    {
     "data": {
      "text/plain": [
       "array([10., 11., 11.,  6.,  3.,  3.,  6.,  6.,  4.,  4.,  6.,  7.,  7.,\n",
       "        3.,  3.,  5., 52., 52.,  6.,  6.,  7.,  7.])"
      ]
     },
     "execution_count": 45,
     "metadata": {},
     "output_type": "execute_result"
    }
   ],
   "source": [
    "b"
   ]
  },
  {
   "cell_type": "code",
   "execution_count": 2,
   "metadata": {},
   "outputs": [],
   "source": [
    "kernel_size = 41\n",
    "test = np.linspace(0, kernel_size - 1, kernel_size)"
   ]
  },
  {
   "cell_type": "code",
   "execution_count": 4,
   "metadata": {},
   "outputs": [
    {
     "data": {
      "text/plain": [
       "array([ 0.,  1.,  2.,  3.,  4.,  5.,  6.,  7.,  8.,  9., 10., 11., 12.,\n",
       "       13., 14., 15., 16., 17., 18., 19., 20., 20., 20., 20., 20., 20.,\n",
       "       20., 20., 20., 20., 20., 20., 20., 20., 20., 20., 20., 20., 20.,\n",
       "       20., 20.])"
      ]
     },
     "execution_count": 4,
     "metadata": {},
     "output_type": "execute_result"
    }
   ],
   "source": [
    "medfilt(test, kernel_size)"
   ]
  },
  {
   "cell_type": "code",
   "execution_count": null,
   "metadata": {},
   "outputs": [],
   "source": []
  }
 ],
 "metadata": {
  "kernelspec": {
   "display_name": "Python 3",
   "language": "python",
   "name": "python3"
  },
  "language_info": {
   "codemirror_mode": {
    "name": "ipython",
    "version": 3
   },
   "file_extension": ".py",
   "mimetype": "text/x-python",
   "name": "python",
   "nbconvert_exporter": "python",
   "pygments_lexer": "ipython3",
   "version": "3.8.3"
  }
 },
 "nbformat": 4,
 "nbformat_minor": 4
}
